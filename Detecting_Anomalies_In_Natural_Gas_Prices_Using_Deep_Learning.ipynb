{
  "nbformat": 4,
  "nbformat_minor": 0,
  "metadata": {
    "colab": {
      "provenance": [],
      "gpuType": "T4",
      "authorship_tag": "ABX9TyPnmFhAlBu6a6qsBfb5H9vl",
      "include_colab_link": true
    },
    "kernelspec": {
      "name": "python3",
      "display_name": "Python 3"
    },
    "language_info": {
      "name": "python"
    },
    "accelerator": "GPU"
  },
  "cells": [
    {
      "cell_type": "markdown",
      "metadata": {
        "id": "view-in-github",
        "colab_type": "text"
      },
      "source": [
        "<a href=\"https://colab.research.google.com/github/mofuoku417/anomaly-detection/blob/main/Detecting_Anomalies_In_Natural_Gas_Prices_Using_Deep_Learning.ipynb\" target=\"_parent\"><img src=\"https://colab.research.google.com/assets/colab-badge.svg\" alt=\"Open In Colab\"/></a>"
      ]
    },
    {
      "cell_type": "markdown",
      "source": [
        "###**Problem statement**\n",
        "\n",
        "This project aims to analyze crude oil data from 01/04/200 - 6/17/22 using anomaly detection techniques to uncover hidden patterns and outliers in the data. We will use the Pytorch library in Python to construct and train a model to detect anomalous data points within the dataset. Finally, we will analyze and interpret our results to draw meaningful conclusions about the Crude oil market."
      ],
      "metadata": {
        "id": "iqiuXSnPLgDY"
      }
    },
    {
      "cell_type": "code",
      "source": [
        "!nvidia-smi"
      ],
      "metadata": {
        "id": "NesraIt0yiG4",
        "colab": {
          "base_uri": "https://localhost:8080/"
        },
        "outputId": "00891669-cced-4ae0-eae1-63ac5da87ff5"
      },
      "execution_count": 2,
      "outputs": [
        {
          "output_type": "stream",
          "name": "stdout",
          "text": [
            "Mon Jul 31 03:17:30 2023       \n",
            "+-----------------------------------------------------------------------------+\n",
            "| NVIDIA-SMI 525.105.17   Driver Version: 525.105.17   CUDA Version: 12.0     |\n",
            "|-------------------------------+----------------------+----------------------+\n",
            "| GPU  Name        Persistence-M| Bus-Id        Disp.A | Volatile Uncorr. ECC |\n",
            "| Fan  Temp  Perf  Pwr:Usage/Cap|         Memory-Usage | GPU-Util  Compute M. |\n",
            "|                               |                      |               MIG M. |\n",
            "|===============================+======================+======================|\n",
            "|   0  Tesla T4            Off  | 00000000:00:04.0 Off |                    0 |\n",
            "| N/A   53C    P8    12W /  70W |      0MiB / 15360MiB |      0%      Default |\n",
            "|                               |                      |                  N/A |\n",
            "+-------------------------------+----------------------+----------------------+\n",
            "                                                                               \n",
            "+-----------------------------------------------------------------------------+\n",
            "| Processes:                                                                  |\n",
            "|  GPU   GI   CI        PID   Type   Process name                  GPU Memory |\n",
            "|        ID   ID                                                   Usage      |\n",
            "|=============================================================================|\n",
            "|  No running processes found                                                 |\n",
            "+-----------------------------------------------------------------------------+\n"
          ]
        }
      ]
    },
    {
      "cell_type": "code",
      "source": [
        "!pip install chart_studio"
      ],
      "metadata": {
        "id": "XiLe9HuKltzt",
        "outputId": "2112cbf5-b541-4020-81f8-7a70bb0aa5d7",
        "colab": {
          "base_uri": "https://localhost:8080/"
        }
      },
      "execution_count": 3,
      "outputs": [
        {
          "output_type": "stream",
          "name": "stdout",
          "text": [
            "Collecting chart_studio\n",
            "  Downloading chart_studio-1.1.0-py3-none-any.whl (64 kB)\n",
            "\u001b[?25l     \u001b[90m━━━━━━━━━━━━━━━━━━━━━━━━━━━━━━━━━━━━━━━━\u001b[0m \u001b[32m0.0/64.4 kB\u001b[0m \u001b[31m?\u001b[0m eta \u001b[36m-:--:--\u001b[0m\r\u001b[2K     \u001b[90m━━━━━━━━━━━━━━━━━━━━━━━━━━━━━━━━━━━━━━━━\u001b[0m \u001b[32m64.4/64.4 kB\u001b[0m \u001b[31m2.1 MB/s\u001b[0m eta \u001b[36m0:00:00\u001b[0m\n",
            "\u001b[?25hRequirement already satisfied: plotly in /usr/local/lib/python3.10/dist-packages (from chart_studio) (5.13.1)\n",
            "Requirement already satisfied: requests in /usr/local/lib/python3.10/dist-packages (from chart_studio) (2.27.1)\n",
            "Collecting retrying>=1.3.3 (from chart_studio)\n",
            "  Downloading retrying-1.3.4-py3-none-any.whl (11 kB)\n",
            "Requirement already satisfied: six in /usr/local/lib/python3.10/dist-packages (from chart_studio) (1.16.0)\n",
            "Requirement already satisfied: tenacity>=6.2.0 in /usr/local/lib/python3.10/dist-packages (from plotly->chart_studio) (8.2.2)\n",
            "Requirement already satisfied: urllib3<1.27,>=1.21.1 in /usr/local/lib/python3.10/dist-packages (from requests->chart_studio) (1.26.16)\n",
            "Requirement already satisfied: certifi>=2017.4.17 in /usr/local/lib/python3.10/dist-packages (from requests->chart_studio) (2023.7.22)\n",
            "Requirement already satisfied: charset-normalizer~=2.0.0 in /usr/local/lib/python3.10/dist-packages (from requests->chart_studio) (2.0.12)\n",
            "Requirement already satisfied: idna<4,>=2.5 in /usr/local/lib/python3.10/dist-packages (from requests->chart_studio) (3.4)\n",
            "Installing collected packages: retrying, chart_studio\n",
            "Successfully installed chart_studio-1.1.0 retrying-1.3.4\n"
          ]
        }
      ]
    },
    {
      "cell_type": "code",
      "source": [
        "!pip install plotly==4.1.1"
      ],
      "metadata": {
        "colab": {
          "base_uri": "https://localhost:8080/"
        },
        "id": "O_hF9qfr6ZYK",
        "outputId": "bd0135b0-b5d2-4b5a-ebb9-f2326efd2444"
      },
      "execution_count": 4,
      "outputs": [
        {
          "output_type": "stream",
          "name": "stdout",
          "text": [
            "Collecting plotly==4.1.1\n",
            "  Downloading plotly-4.1.1-py2.py3-none-any.whl (7.1 MB)\n",
            "\u001b[2K     \u001b[90m━━━━━━━━━━━━━━━━━━━━━━━━━━━━━━━━━━━━━━━━\u001b[0m \u001b[32m7.1/7.1 MB\u001b[0m \u001b[31m17.0 MB/s\u001b[0m eta \u001b[36m0:00:00\u001b[0m\n",
            "\u001b[?25hRequirement already satisfied: retrying>=1.3.3 in /usr/local/lib/python3.10/dist-packages (from plotly==4.1.1) (1.3.4)\n",
            "Requirement already satisfied: six in /usr/local/lib/python3.10/dist-packages (from plotly==4.1.1) (1.16.0)\n",
            "Installing collected packages: plotly\n",
            "  Attempting uninstall: plotly\n",
            "    Found existing installation: plotly 5.13.1\n",
            "    Uninstalling plotly-5.13.1:\n",
            "      Successfully uninstalled plotly-5.13.1\n",
            "Successfully installed plotly-4.1.1\n"
          ]
        }
      ]
    },
    {
      "cell_type": "code",
      "source": [
        "# Check for GPU\n",
        "import torch\n",
        "torch.cuda.is_available()"
      ],
      "metadata": {
        "colab": {
          "base_uri": "https://localhost:8080/"
        },
        "id": "CkufjdOwzfr3",
        "outputId": "ce840cc2-e519-454d-f2e3-e19de96e788e"
      },
      "execution_count": 5,
      "outputs": [
        {
          "output_type": "execute_result",
          "data": {
            "text/plain": [
              "True"
            ]
          },
          "metadata": {},
          "execution_count": 5
        }
      ]
    },
    {
      "cell_type": "markdown",
      "source": [
        "####Loading the required libraries"
      ],
      "metadata": {
        "id": "8Gs2wPPiMqeI"
      }
    },
    {
      "cell_type": "code",
      "source": [
        "from pandas import read_csv\n",
        "\n",
        "import plotly\n",
        "#import plotly.plotly as py\n",
        "import chart_studio.plotly as py\n",
        "import cufflinks as cf\n",
        "from plotly.offline import init_notebook_mode, iplot\n",
        "init_notebook_mode(connected=True)\n",
        "import plotly.graph_objs as go\n",
        "import plotly.offline as offline\n",
        "offline.init_notebook_mode()\n",
        "\n",
        "from matplotlib import pyplot as plt\n",
        "import seaborn as sns\n",
        "\n",
        "import pandas as pd\n",
        "import numpy as np\n",
        "import matplotlib.pyplot as plt\n",
        "import torch.nn as nn\n",
        "from datetime import date, timedelta # Date Operations\n",
        "import matplotlib.pyplot as plt # To aid in visualizing\n",
        "%matplotlib inline\n",
        "import seaborn as sns\n",
        "import matplotlib.dates as mdates # Date formatting"
      ],
      "metadata": {
        "id": "_BBFkQjAGXgm"
      },
      "execution_count": null,
      "outputs": []
    },
    {
      "cell_type": "markdown",
      "source": [
        "####Loading the dataset"
      ],
      "metadata": {
        "id": "_oTDiZURROnS"
      }
    },
    {
      "cell_type": "code",
      "source": [
        "# Establishing a timetable for data extraction\n",
        "today = date.today()\n",
        "end_date = today.strftime(\"%Y-%m\")\n",
        "#start_date = '1993-03'\n",
        "#start_date = '07-01-97'\n",
        "start_date = '1997-01-07'\n",
        "\n",
        "featurename = 'Henry Hub Daily Oil Price'\n",
        "\n",
        "#Load dataset\n",
        "path ='https://raw.githubusercontent.com/mofuoku417/anomaly-detection/main/Data/HHD.csv'\n",
        "df = read_csv(path, parse_dates=True)\n",
        "\n",
        "# Henry Hub Natural Gas Spot Price (I:HHNGSP)\n",
        "# 2.66 USD/MMBtu for Jul 25 2023\n",
        "#\n",
        "# \"%Y-%m\"\n",
        "# \"%Y-%m-%d\"\n",
        "# '%d-%m-%Y'\n",
        "# ('%d-%m-%Y')"
      ],
      "metadata": {
        "id": "IsjIRH4QjnQa"
      },
      "execution_count": 7,
      "outputs": []
    },
    {
      "cell_type": "code",
      "source": [
        "path ='https://raw.githubusercontent.com/mofuoku417/anomaly-detection/main/Data/HHM.csv'\n",
        "dataframe = read_csv(path, parse_dates=True,)"
      ],
      "metadata": {
        "id": "EhTGpM6lLRs5"
      },
      "execution_count": 8,
      "outputs": []
    },
    {
      "cell_type": "code",
      "source": [
        "df.dtypes"
      ],
      "metadata": {
        "id": "odmYGr2Ha5Gw",
        "outputId": "1175777a-6e19-4409-b00f-5d430281ba55",
        "colab": {
          "base_uri": "https://localhost:8080/"
        }
      },
      "execution_count": 9,
      "outputs": [
        {
          "output_type": "execute_result",
          "data": {
            "text/plain": [
              "Date     object\n",
              "HHD     float64\n",
              "dtype: object"
            ]
          },
          "metadata": {},
          "execution_count": 9
        }
      ]
    },
    {
      "cell_type": "markdown",
      "source": [
        "###Data Preprocessing"
      ],
      "metadata": {
        "id": "svJPCB2DNQEG"
      }
    },
    {
      "cell_type": "code",
      "source": [
        "print(f\"Downloaded {len(df)} rows of data.\")\n",
        "df"
      ],
      "metadata": {
        "colab": {
          "base_uri": "https://localhost:8080/",
          "height": 449
        },
        "id": "Y9-7Gbk7QLSD",
        "outputId": "7a1acd03-cac1-48fe-e182-712e823de38c"
      },
      "execution_count": 10,
      "outputs": [
        {
          "output_type": "stream",
          "name": "stdout",
          "text": [
            "Downloaded 6676 rows of data.\n"
          ]
        },
        {
          "output_type": "execute_result",
          "data": {
            "text/plain": [
              "            Date   HHD\n",
              "0     1997-01-07  3.82\n",
              "1     1997-01-08  3.80\n",
              "2     1997-01-09  3.61\n",
              "3     1997-01-10  3.92\n",
              "4     1997-01-13  4.00\n",
              "...          ...   ...\n",
              "6671  2023-07-19  2.51\n",
              "6672  2023-07-20  2.61\n",
              "6673  2023-07-21  2.61\n",
              "6674  2023-07-24  2.68\n",
              "6675  2023-07-25  2.66\n",
              "\n",
              "[6676 rows x 2 columns]"
            ],
            "text/html": [
              "\n",
              "\n",
              "  <div id=\"df-2c329e62-c017-4b69-ba78-e5c2c959f33a\">\n",
              "    <div class=\"colab-df-container\">\n",
              "      <div>\n",
              "<style scoped>\n",
              "    .dataframe tbody tr th:only-of-type {\n",
              "        vertical-align: middle;\n",
              "    }\n",
              "\n",
              "    .dataframe tbody tr th {\n",
              "        vertical-align: top;\n",
              "    }\n",
              "\n",
              "    .dataframe thead th {\n",
              "        text-align: right;\n",
              "    }\n",
              "</style>\n",
              "<table border=\"1\" class=\"dataframe\">\n",
              "  <thead>\n",
              "    <tr style=\"text-align: right;\">\n",
              "      <th></th>\n",
              "      <th>Date</th>\n",
              "      <th>HHD</th>\n",
              "    </tr>\n",
              "  </thead>\n",
              "  <tbody>\n",
              "    <tr>\n",
              "      <th>0</th>\n",
              "      <td>1997-01-07</td>\n",
              "      <td>3.82</td>\n",
              "    </tr>\n",
              "    <tr>\n",
              "      <th>1</th>\n",
              "      <td>1997-01-08</td>\n",
              "      <td>3.80</td>\n",
              "    </tr>\n",
              "    <tr>\n",
              "      <th>2</th>\n",
              "      <td>1997-01-09</td>\n",
              "      <td>3.61</td>\n",
              "    </tr>\n",
              "    <tr>\n",
              "      <th>3</th>\n",
              "      <td>1997-01-10</td>\n",
              "      <td>3.92</td>\n",
              "    </tr>\n",
              "    <tr>\n",
              "      <th>4</th>\n",
              "      <td>1997-01-13</td>\n",
              "      <td>4.00</td>\n",
              "    </tr>\n",
              "    <tr>\n",
              "      <th>...</th>\n",
              "      <td>...</td>\n",
              "      <td>...</td>\n",
              "    </tr>\n",
              "    <tr>\n",
              "      <th>6671</th>\n",
              "      <td>2023-07-19</td>\n",
              "      <td>2.51</td>\n",
              "    </tr>\n",
              "    <tr>\n",
              "      <th>6672</th>\n",
              "      <td>2023-07-20</td>\n",
              "      <td>2.61</td>\n",
              "    </tr>\n",
              "    <tr>\n",
              "      <th>6673</th>\n",
              "      <td>2023-07-21</td>\n",
              "      <td>2.61</td>\n",
              "    </tr>\n",
              "    <tr>\n",
              "      <th>6674</th>\n",
              "      <td>2023-07-24</td>\n",
              "      <td>2.68</td>\n",
              "    </tr>\n",
              "    <tr>\n",
              "      <th>6675</th>\n",
              "      <td>2023-07-25</td>\n",
              "      <td>2.66</td>\n",
              "    </tr>\n",
              "  </tbody>\n",
              "</table>\n",
              "<p>6676 rows × 2 columns</p>\n",
              "</div>\n",
              "      <button class=\"colab-df-convert\" onclick=\"convertToInteractive('df-2c329e62-c017-4b69-ba78-e5c2c959f33a')\"\n",
              "              title=\"Convert this dataframe to an interactive table.\"\n",
              "              style=\"display:none;\">\n",
              "\n",
              "  <svg xmlns=\"http://www.w3.org/2000/svg\" height=\"24px\"viewBox=\"0 0 24 24\"\n",
              "       width=\"24px\">\n",
              "    <path d=\"M0 0h24v24H0V0z\" fill=\"none\"/>\n",
              "    <path d=\"M18.56 5.44l.94 2.06.94-2.06 2.06-.94-2.06-.94-.94-2.06-.94 2.06-2.06.94zm-11 1L8.5 8.5l.94-2.06 2.06-.94-2.06-.94L8.5 2.5l-.94 2.06-2.06.94zm10 10l.94 2.06.94-2.06 2.06-.94-2.06-.94-.94-2.06-.94 2.06-2.06.94z\"/><path d=\"M17.41 7.96l-1.37-1.37c-.4-.4-.92-.59-1.43-.59-.52 0-1.04.2-1.43.59L10.3 9.45l-7.72 7.72c-.78.78-.78 2.05 0 2.83L4 21.41c.39.39.9.59 1.41.59.51 0 1.02-.2 1.41-.59l7.78-7.78 2.81-2.81c.8-.78.8-2.07 0-2.86zM5.41 20L4 18.59l7.72-7.72 1.47 1.35L5.41 20z\"/>\n",
              "  </svg>\n",
              "      </button>\n",
              "\n",
              "\n",
              "\n",
              "    <div id=\"df-796a7376-37a5-44ca-a4dc-e80745b5df00\">\n",
              "      <button class=\"colab-df-quickchart\" onclick=\"quickchart('df-796a7376-37a5-44ca-a4dc-e80745b5df00')\"\n",
              "              title=\"Suggest charts.\"\n",
              "              style=\"display:none;\">\n",
              "\n",
              "<svg xmlns=\"http://www.w3.org/2000/svg\" height=\"24px\"viewBox=\"0 0 24 24\"\n",
              "     width=\"24px\">\n",
              "    <g>\n",
              "        <path d=\"M19 3H5c-1.1 0-2 .9-2 2v14c0 1.1.9 2 2 2h14c1.1 0 2-.9 2-2V5c0-1.1-.9-2-2-2zM9 17H7v-7h2v7zm4 0h-2V7h2v10zm4 0h-2v-4h2v4z\"/>\n",
              "    </g>\n",
              "</svg>\n",
              "      </button>\n",
              "    </div>\n",
              "\n",
              "<style>\n",
              "  .colab-df-quickchart {\n",
              "    background-color: #E8F0FE;\n",
              "    border: none;\n",
              "    border-radius: 50%;\n",
              "    cursor: pointer;\n",
              "    display: none;\n",
              "    fill: #1967D2;\n",
              "    height: 32px;\n",
              "    padding: 0 0 0 0;\n",
              "    width: 32px;\n",
              "  }\n",
              "\n",
              "  .colab-df-quickchart:hover {\n",
              "    background-color: #E2EBFA;\n",
              "    box-shadow: 0px 1px 2px rgba(60, 64, 67, 0.3), 0px 1px 3px 1px rgba(60, 64, 67, 0.15);\n",
              "    fill: #174EA6;\n",
              "  }\n",
              "\n",
              "  [theme=dark] .colab-df-quickchart {\n",
              "    background-color: #3B4455;\n",
              "    fill: #D2E3FC;\n",
              "  }\n",
              "\n",
              "  [theme=dark] .colab-df-quickchart:hover {\n",
              "    background-color: #434B5C;\n",
              "    box-shadow: 0px 1px 3px 1px rgba(0, 0, 0, 0.15);\n",
              "    filter: drop-shadow(0px 1px 2px rgba(0, 0, 0, 0.3));\n",
              "    fill: #FFFFFF;\n",
              "  }\n",
              "</style>\n",
              "\n",
              "    <script>\n",
              "      async function quickchart(key) {\n",
              "        const containerElement = document.querySelector('#' + key);\n",
              "        const charts = await google.colab.kernel.invokeFunction(\n",
              "            'suggestCharts', [key], {});\n",
              "      }\n",
              "    </script>\n",
              "\n",
              "      <script>\n",
              "\n",
              "function displayQuickchartButton(domScope) {\n",
              "  let quickchartButtonEl =\n",
              "    domScope.querySelector('#df-796a7376-37a5-44ca-a4dc-e80745b5df00 button.colab-df-quickchart');\n",
              "  quickchartButtonEl.style.display =\n",
              "    google.colab.kernel.accessAllowed ? 'block' : 'none';\n",
              "}\n",
              "\n",
              "        displayQuickchartButton(document);\n",
              "      </script>\n",
              "      <style>\n",
              "    .colab-df-container {\n",
              "      display:flex;\n",
              "      flex-wrap:wrap;\n",
              "      gap: 12px;\n",
              "    }\n",
              "\n",
              "    .colab-df-convert {\n",
              "      background-color: #E8F0FE;\n",
              "      border: none;\n",
              "      border-radius: 50%;\n",
              "      cursor: pointer;\n",
              "      display: none;\n",
              "      fill: #1967D2;\n",
              "      height: 32px;\n",
              "      padding: 0 0 0 0;\n",
              "      width: 32px;\n",
              "    }\n",
              "\n",
              "    .colab-df-convert:hover {\n",
              "      background-color: #E2EBFA;\n",
              "      box-shadow: 0px 1px 2px rgba(60, 64, 67, 0.3), 0px 1px 3px 1px rgba(60, 64, 67, 0.15);\n",
              "      fill: #174EA6;\n",
              "    }\n",
              "\n",
              "    [theme=dark] .colab-df-convert {\n",
              "      background-color: #3B4455;\n",
              "      fill: #D2E3FC;\n",
              "    }\n",
              "\n",
              "    [theme=dark] .colab-df-convert:hover {\n",
              "      background-color: #434B5C;\n",
              "      box-shadow: 0px 1px 3px 1px rgba(0, 0, 0, 0.15);\n",
              "      filter: drop-shadow(0px 1px 2px rgba(0, 0, 0, 0.3));\n",
              "      fill: #FFFFFF;\n",
              "    }\n",
              "  </style>\n",
              "\n",
              "      <script>\n",
              "        const buttonEl =\n",
              "          document.querySelector('#df-2c329e62-c017-4b69-ba78-e5c2c959f33a button.colab-df-convert');\n",
              "        buttonEl.style.display =\n",
              "          google.colab.kernel.accessAllowed ? 'block' : 'none';\n",
              "\n",
              "        async function convertToInteractive(key) {\n",
              "          const element = document.querySelector('#df-2c329e62-c017-4b69-ba78-e5c2c959f33a');\n",
              "          const dataTable =\n",
              "            await google.colab.kernel.invokeFunction('convertToInteractive',\n",
              "                                                     [key], {});\n",
              "          if (!dataTable) return;\n",
              "\n",
              "          const docLinkHtml = 'Like what you see? Visit the ' +\n",
              "            '<a target=\"_blank\" href=https://colab.research.google.com/notebooks/data_table.ipynb>data table notebook</a>'\n",
              "            + ' to learn more about interactive tables.';\n",
              "          element.innerHTML = '';\n",
              "          dataTable['output_type'] = 'display_data';\n",
              "          await google.colab.output.renderOutput(dataTable, element);\n",
              "          const docLink = document.createElement('div');\n",
              "          docLink.innerHTML = docLinkHtml;\n",
              "          element.appendChild(docLink);\n",
              "        }\n",
              "      </script>\n",
              "    </div>\n",
              "  </div>\n"
            ]
          },
          "metadata": {},
          "execution_count": 10
        }
      ]
    },
    {
      "cell_type": "code",
      "source": [
        "#Checking the data types\n",
        "df.dtypes"
      ],
      "metadata": {
        "colab": {
          "base_uri": "https://localhost:8080/"
        },
        "id": "bwbFr3ZxUIK0",
        "outputId": "4b6d3245-aaf7-4d60-c28a-ac549c84d545"
      },
      "execution_count": 11,
      "outputs": [
        {
          "output_type": "execute_result",
          "data": {
            "text/plain": [
              "Date     object\n",
              "HHD     float64\n",
              "dtype: object"
            ]
          },
          "metadata": {},
          "execution_count": 11
        }
      ]
    },
    {
      "cell_type": "code",
      "source": [
        "device = 'cuda:0' if torch.cuda.is_available() else 'cpu'\n",
        "device"
      ],
      "metadata": {
        "id": "U1AuHah1hPw-",
        "outputId": "3651f13b-395b-4af4-8314-39769afc0df9",
        "colab": {
          "base_uri": "https://localhost:8080/",
          "height": 56
        }
      },
      "execution_count": 12,
      "outputs": [
        {
          "output_type": "execute_result",
          "data": {
            "text/plain": [
              "'cuda:0'"
            ],
            "application/vnd.google.colaboratory.intrinsic+json": {
              "type": "string"
            }
          },
          "metadata": {},
          "execution_count": 12
        }
      ]
    },
    {
      "cell_type": "code",
      "source": [
        "# Converting date column from object to date format\n",
        "df['Date'] = pd.to_datetime(df['Date'].apply(lambda x: x.split()[0])) # Selecting only date\n",
        "#df['Date'] = pd.to_datetime(df['Date'].apply(lambda x: x.split()[0])) # Selecting only date"
      ],
      "metadata": {
        "id": "H9HWhk8rzDn0"
      },
      "execution_count": 13,
      "outputs": []
    },
    {
      "cell_type": "code",
      "source": [
        "import plotly.graph_objects as go\n",
        "import plotly.graph_objs as go\n",
        "import plotly.express as px\n",
        "px.line(df, x = 'Date', y = 'HHD', title=\"Natural gas\").update_layout(\n",
        "    xaxis_title=\"Date\", yaxis_title=\"7 day avg\")\n",
        "fig.update_layout(xaxis_title = \"Date_time\", yaxis_title = \"Price ($/Mbtu)\",\n",
        "                  title_text=\"Henry Hub Spot Price (Daily frequency)\")\n",
        "fig.show(renderer=\"colab\")\n",
        "\n",
        "# fig1.layout.update()\n",
        "\n",
        "# fig.update_layout(xaxis_title = \"Date_time\", yaxis_title = \"Price ($/Mbtu)\",\n",
        "                  #title_text=\"Henry Hub Spot Price (Daily frequency)\")"
      ],
      "metadata": {
        "colab": {
          "base_uri": "https://localhost:8080/",
          "height": 248
        },
        "id": "mPfbOLf1rTXT",
        "outputId": "34ffb5f5-e3ad-45f8-f0e3-798f64f4882d"
      },
      "execution_count": 16,
      "outputs": [
        {
          "output_type": "error",
          "ename": "NameError",
          "evalue": "ignored",
          "traceback": [
            "\u001b[0;31m---------------------------------------------------------------------------\u001b[0m",
            "\u001b[0;31mNameError\u001b[0m                                 Traceback (most recent call last)",
            "\u001b[0;32m<ipython-input-16-b28ecdaedc80>\u001b[0m in \u001b[0;36m<cell line: 6>\u001b[0;34m()\u001b[0m\n\u001b[1;32m      4\u001b[0m px.line(df, x = 'Date', y = 'HHD', title=\"Natural gas\").update_layout(\n\u001b[1;32m      5\u001b[0m     xaxis_title=\"Date\", yaxis_title=\"7 day avg\")\n\u001b[0;32m----> 6\u001b[0;31m fig.update_layout(xaxis_title = \"Date_time\", yaxis_title = \"Price ($/Mbtu)\",\n\u001b[0m\u001b[1;32m      7\u001b[0m                   title_text=\"Henry Hub Spot Price (Daily frequency)\")\n\u001b[1;32m      8\u001b[0m \u001b[0mfig\u001b[0m\u001b[0;34m.\u001b[0m\u001b[0mshow\u001b[0m\u001b[0;34m(\u001b[0m\u001b[0mrenderer\u001b[0m\u001b[0;34m=\u001b[0m\u001b[0;34m\"colab\"\u001b[0m\u001b[0;34m)\u001b[0m\u001b[0;34m\u001b[0m\u001b[0;34m\u001b[0m\u001b[0m\n",
            "\u001b[0;31mNameError\u001b[0m: name 'fig' is not defined"
          ]
        }
      ]
    },
    {
      "cell_type": "markdown",
      "source": [
        "### Display the Timeseries"
      ],
      "metadata": {
        "id": "XMj-j9E5KRSH"
      }
    },
    {
      "cell_type": "markdown",
      "source": [
        "### Detect Missing Data"
      ],
      "metadata": {
        "id": "eYKBA7F2XbhF"
      }
    },
    {
      "cell_type": "code",
      "source": [
        "print('The Original DataFrame:')\n",
        "print(df)\n",
        "print('\\n')"
      ],
      "metadata": {
        "colab": {
          "base_uri": "https://localhost:8080/"
        },
        "id": "Gz0L967WdX3T",
        "outputId": "01a35f55-6117-43bb-d49f-bb968b5c542b"
      },
      "execution_count": 17,
      "outputs": [
        {
          "output_type": "stream",
          "name": "stdout",
          "text": [
            "The Original DataFrame:\n",
            "           Date   HHD\n",
            "0    1997-01-07  3.82\n",
            "1    1997-01-08  3.80\n",
            "2    1997-01-09  3.61\n",
            "3    1997-01-10  3.92\n",
            "4    1997-01-13  4.00\n",
            "...         ...   ...\n",
            "6671 2023-07-19  2.51\n",
            "6672 2023-07-20  2.61\n",
            "6673 2023-07-21  2.61\n",
            "6674 2023-07-24  2.68\n",
            "6675 2023-07-25  2.66\n",
            "\n",
            "[6676 rows x 2 columns]\n",
            "\n",
            "\n"
          ]
        }
      ]
    },
    {
      "cell_type": "code",
      "source": [
        "# Count Missing Values in DataFrame\n",
        "# Filling missing values using fillna(), replace() and interpolate()....Detect missing values with isnull() and isna()\n",
        "\n",
        "print(df.isnull())"
      ],
      "metadata": {
        "colab": {
          "base_uri": "https://localhost:8080/"
        },
        "id": "EEEqPFpruO8G",
        "outputId": "fa80a66a-67c9-439e-efe1-a692fa33419d"
      },
      "execution_count": 18,
      "outputs": [
        {
          "output_type": "stream",
          "name": "stdout",
          "text": [
            "       Date    HHD\n",
            "0     False  False\n",
            "1     False  False\n",
            "2     False  False\n",
            "3     False  False\n",
            "4     False  False\n",
            "...     ...    ...\n",
            "6671  False  False\n",
            "6672  False  False\n",
            "6673  False  False\n",
            "6674  False  False\n",
            "6675  False  False\n",
            "\n",
            "[6676 rows x 2 columns]\n"
          ]
        }
      ]
    },
    {
      "cell_type": "code",
      "source": [
        "print(df.notnull())"
      ],
      "metadata": {
        "colab": {
          "base_uri": "https://localhost:8080/"
        },
        "id": "swD70zWrubcv",
        "outputId": "3170aa0f-e0d4-45b6-d8a5-b878f4bef52b"
      },
      "execution_count": 19,
      "outputs": [
        {
          "output_type": "stream",
          "name": "stdout",
          "text": [
            "      Date   HHD\n",
            "0     True  True\n",
            "1     True  True\n",
            "2     True  True\n",
            "3     True  True\n",
            "4     True  True\n",
            "...    ...   ...\n",
            "6671  True  True\n",
            "6672  True  True\n",
            "6673  True  True\n",
            "6674  True  True\n",
            "6675  True  True\n",
            "\n",
            "[6676 rows x 2 columns]\n"
          ]
        }
      ]
    },
    {
      "cell_type": "markdown",
      "source": [
        "### Count Missing Values in Each rRow and Column"
      ],
      "metadata": {
        "id": "ltuLQpnVZtO1"
      }
    },
    {
      "cell_type": "code",
      "source": [
        "print(df.isnull().sum())"
      ],
      "metadata": {
        "id": "fepp6AdzU4Lv",
        "colab": {
          "base_uri": "https://localhost:8080/"
        },
        "outputId": "617b3055-81eb-416c-a78c-fef0c0ff6af3"
      },
      "execution_count": 20,
      "outputs": [
        {
          "output_type": "stream",
          "name": "stdout",
          "text": [
            "Date    0\n",
            "HHD     1\n",
            "dtype: int64\n"
          ]
        }
      ]
    },
    {
      "cell_type": "code",
      "source": [
        "print(df.isnull().values.sum())"
      ],
      "metadata": {
        "id": "p11RYCSwU4Oy",
        "colab": {
          "base_uri": "https://localhost:8080/"
        },
        "outputId": "9e2929ae-ebe5-48e8-e05a-5f65e669ceaf"
      },
      "execution_count": 21,
      "outputs": [
        {
          "output_type": "stream",
          "name": "stdout",
          "text": [
            "1\n"
          ]
        }
      ]
    },
    {
      "cell_type": "markdown",
      "source": [
        "### Drop the Row with Missing Value"
      ],
      "metadata": {
        "id": "v3Mq0l7Obpmr"
      }
    },
    {
      "cell_type": "code",
      "source": [
        "# By default, we drop rows with at least one missing value\n",
        "print('The DataFrame after removing the rows with empty fields')\n",
        "print(df.dropna())"
      ],
      "metadata": {
        "id": "R51MiSiUU4VS",
        "colab": {
          "base_uri": "https://localhost:8080/"
        },
        "outputId": "74bd72e2-5d9b-47c3-cd18-e521a9b7d49f"
      },
      "execution_count": 22,
      "outputs": [
        {
          "output_type": "stream",
          "name": "stdout",
          "text": [
            "The DataFrame after removing the rows with empty fields\n",
            "           Date   HHD\n",
            "0    1997-01-07  3.82\n",
            "1    1997-01-08  3.80\n",
            "2    1997-01-09  3.61\n",
            "3    1997-01-10  3.92\n",
            "4    1997-01-13  4.00\n",
            "...         ...   ...\n",
            "6671 2023-07-19  2.51\n",
            "6672 2023-07-20  2.61\n",
            "6673 2023-07-21  2.61\n",
            "6674 2023-07-24  2.68\n",
            "6675 2023-07-25  2.66\n",
            "\n",
            "[6675 rows x 2 columns]\n"
          ]
        }
      ]
    },
    {
      "cell_type": "markdown",
      "source": [
        "Deviation from established pattern is considered an anomaly in a given data. Apply a Boxplot to visualize these deviations."
      ],
      "metadata": {
        "id": "r1QPiumThD28"
      }
    },
    {
      "cell_type": "code",
      "source": [
        "fig = px.box(\n",
        "    data_frame = df\n",
        "    ,y = 'HHD'\n",
        ")\n",
        "fig.update_layout(\n",
        "    autosize=False,\n",
        "    width=1000,\n",
        "    height=600\n",
        ")\n",
        "\n",
        "fig.show(renderer=\"colab\")"
      ],
      "metadata": {
        "colab": {
          "base_uri": "https://localhost:8080/",
          "height": 638
        },
        "id": "LUfC98Rqe1bT",
        "outputId": "4e0db26b-aec5-43e2-e906-0625a5790ace"
      },
      "execution_count": 26,
      "outputs": [
        {
          "output_type": "display_data",
          "data": {
            "text/html": [
              "<html>\n",
              "<head><meta charset=\"utf-8\" /></head>\n",
              "<body>\n",
              "    <div>\n",
              "            <script src=\"https://cdnjs.cloudflare.com/ajax/libs/mathjax/2.7.5/MathJax.js?config=TeX-AMS-MML_SVG\"></script><script type=\"text/javascript\">if (window.MathJax) {MathJax.Hub.Config({SVG: {font: \"STIX-Web\"}});}</script>\n",
              "                <script type=\"text/javascript\">window.PlotlyConfig = {MathJaxConfig: 'local'};</script>\n",
              "        <script src=\"https://cdn.plot.ly/plotly-latest.min.js\"></script>    \n",
              "            <div id=\"2b6fc708-054c-4477-9b08-d4825cece7b3\" class=\"plotly-graph-div\" style=\"height:600px; width:1000px;\"></div>\n",
              "            <script type=\"text/javascript\">\n",
              "                \n",
              "                    window.PLOTLYENV=window.PLOTLYENV || {};\n",
              "                    \n",
              "                if (document.getElementById(\"2b6fc708-054c-4477-9b08-d4825cece7b3\")) {\n",
              "                    Plotly.newPlot(\n",
              "                        '2b6fc708-054c-4477-9b08-d4825cece7b3',\n",
              "                        [{\"alignmentgroup\": \"True\", \"hoverlabel\": {\"namelength\": 0}, \"hovertemplate\": \"HHD=%{y}\", \"legendgroup\": \"\", \"marker\": {\"color\": \"#636efa\"}, \"name\": \"\", \"notched\": false, \"offsetgroup\": \"\", \"orientation\": \"v\", \"showlegend\": false, \"type\": \"box\", \"x0\": \" \", \"xaxis\": \"x\", \"y\": [3.82, 3.8, 3.61, 3.92, 4.0, 4.01, 4.34, 4.71, 3.91, 3.26, 2.99, 3.05, 2.96, 2.62, 2.98, 3.05, 2.91, 2.86, 2.77, 2.49, 2.59, 2.65, 2.51, 2.39, 2.42, 2.34, 2.42, 2.22, 2.12, 1.84, 1.95, 1.92, 1.92, 1.92, 1.77, 1.81, 1.8, 1.78, 1.8, 1.87, 1.92, 1.82, 1.89, 1.95, 1.92, 1.96, 1.98, 1.97, 2.01, 1.91, 1.88, 1.88, 1.87, 1.8, 1.85, 1.85, 1.84, 1.84, 1.95, 1.85, 1.87, 1.91, 1.99, 2.01, 1.96, 1.97, 1.98, 2.0, 2.0, 2.02, 2.08, 2.1, 2.09, 2.1, 2.22, 2.11, 2.16, 2.1, 2.09, 2.16, 2.19, 2.21, 2.23, 2.25, 2.34, 2.33, 2.3, 2.27, 2.18, 2.22, 2.25, 2.19, 2.25, 2.22, 2.21, 2.22, 2.2, 2.29, 2.34, 2.29, 2.23, 2.2, 2.11, 2.19, 2.18, 2.19, 2.19, 2.16, 2.16, 2.14, 2.15, 2.2, 2.2, 2.22, 2.23, 2.25, 2.29, 2.32, 2.32, 2.23, 2.17, 2.17, 2.16, 2.14, 2.11, 2.13, 2.13, 2.16, 2.15, 2.16, 2.18, 2.21, 2.24, 2.29, 2.26, 2.17, 2.18, 2.2, 2.24, 2.22, 2.19, 2.23, 2.19, 2.23, 2.24, 2.26, 2.33, 2.38, 2.5, 2.38, 2.53, 2.56, 2.45, 2.57, 2.53, 2.56, 2.61, 2.62, 2.45, 2.47, 2.53, 2.58, 2.51, 2.57, 2.69, 2.82, 2.86, 2.73, 2.67, 2.67, 2.74, 2.74, 2.78, 2.86, 2.88, 2.83, 2.75, 2.84, 2.94, 2.98, 3.09, 3.03, 3.05, 3.24, 3.09, 2.96, 3.08, 2.97, 2.91, 2.96, 2.81, 2.8, 2.8, 2.78, 2.87, 2.84, 2.84, 2.94, 2.97, 3.05, 3.13, 3.24, 3.34, 3.29, 3.46, 3.61, 3.45, 3.34, 3.22, 3.23, 3.15, 3.18, 3.2, 3.05, 3.2, 3.26, 3.28, 3.27, 3.25, 3.1, 3.0, 2.97, 2.77, 2.59, 2.63, 2.51, 2.5, 2.52, 2.61, 2.53, 2.48, 2.42, 2.3, 2.35, 2.45, 2.3, 2.3, 2.25, 2.29, 2.38, 2.37, 2.39, 2.36, 2.24, 2.06, 2.18, 2.33, 2.27, 2.27, 2.16, 2.05, 2.16, 2.13, 2.11, 2.09, 2.01, 2.03, 2.05, 2.07, 2.11, 2.12, 2.09, 2.1, 2.14, 2.09, 2.06, 2.09, 2.07, 2.09, 2.23, 2.27, 2.23, 2.31, 2.35, 2.25, 2.18, 2.21, 2.2, 2.22, 2.18, 2.19, 2.22, 2.2, 2.2, 2.19, 2.21, 2.28, 2.23, 2.26, 2.24, 2.19, 2.12, 2.1, 2.17, 2.25, 2.25, 2.23, 2.21, 2.2, 2.2, 2.21, 2.25, 2.28, 2.33, 2.29, 2.33, 2.29, 2.26, 2.32, 2.34, 2.45, 2.43, 2.51, 2.51, 2.51, 2.65, 2.61, 2.52, 2.42, 2.48, 2.48, 2.4, 2.4, 2.46, 2.46, 2.35, 2.31, 2.29, 2.27, 2.29, 2.18, 2.11, 2.1, 2.19, 2.12, 2.16, 2.11, 2.19, 2.23, 2.24, 2.18, 2.18, 2.19, 2.17, 2.18, 2.11, 2.02, 2.1, 2.1, 2.04, 2.1, 2.1, 2.2, 2.13, 2.04, 2.01, 2.0, 2.01, 1.98, 1.99, 2.01, 2.08, 2.1, 2.05, 2.14, 2.2, 2.35, 2.35, 2.4, 2.39, 2.4, 2.36, 2.39, 2.46, 2.36, 2.38, 2.35, 2.39, 2.38, 2.32, 2.3, 2.23, 2.21, 2.15, 2.15, 2.18, 2.09, 2.0, 2.0, 1.97, 2.0, 1.97, 1.99, 1.95, 1.85, 1.84, 1.9, 1.91, 1.85, 1.82, 1.87, 1.87, 1.85, 1.83, 1.83, 1.93, 1.94, 1.96, 1.9, 1.93, 1.9, 1.89, 1.83, 1.76, 1.66, 1.61, 1.84, 1.72, 1.71, 1.71, 1.81, 1.78, 1.88, 1.86, 1.86, 1.94, 2.15, 2.12, 2.27, 2.18, 2.29, 2.19, 2.17, 2.38, 2.23, 2.06, 2.22, 2.33, 2.14, 2.09, 2.01, 2.05, 2.02, 1.8, 1.75, 1.7, 1.8, 1.75, 1.64, 1.74, 1.95, 2.04, 1.95, 1.84, 1.92, 1.85, 1.7, 2.0, 2.0, 1.84, 2.1, 2.11, 2.26, 2.25, 2.28, 2.3, 2.33, 2.21, 2.21, 2.19, 2.12, 2.1, 2.1, 2.07, 2.02, 2.08, 2.13, 1.63, 1.41, 1.4, 1.21, 1.05, 1.44, 1.79, 1.64, 1.59, 1.55, 1.8, 1.86, 1.95, 2.02, 2.02, 2.05, 1.96, 1.88, 1.89, 1.79, 1.82, 1.81, 1.95, 2.1, 2.05, 2.04, 1.91, 1.9, 1.83, 1.82, 1.87, 1.77, 1.78, 1.77, 1.81, 1.85, 1.82, 1.76, 1.73, 1.75, 1.75, 1.83, 1.75, 1.78, 1.8, 1.79, 1.81, 1.81, 1.82, 1.8, 1.78, 1.82, 1.79, 1.79, 1.8, 1.79, 1.77, 1.75, 1.73, 1.64, 1.63, 1.65, 1.67, 1.68, 1.72, 1.74, 1.87, 1.86, 1.94, 1.87, 1.81, 1.75, 1.75, 1.75, 1.75, 1.73, 1.74, 1.8, 1.79, 1.8, 1.83, 1.8, 1.89, 2.02, 1.95, 2.03, 1.98, 2.03, 2.07, 2.1, 2.06, 2.14, 2.11, 2.14, 2.14, 2.1, 2.18, 2.17, 2.24, 2.23, 2.23, 2.32, 2.31, 2.37, 2.25, 2.23, 2.32, 2.36, 2.32, 2.25, 2.25, 2.29, 2.19, 2.21, 2.28, 2.31, 2.3, 2.27, 2.26, 2.21, 2.19, 2.18, 2.22, 2.27, 2.29, 2.34, 2.36, 2.35, 2.31, 2.41, 2.38, 2.39, 2.37, 2.3, 2.29, 2.28, 2.28, 2.24, 2.24, 2.22, 2.23, 2.25, 2.26, 2.27, 2.25, 2.33, 2.34, 2.29, 2.26, 2.29, 2.2, 2.19, 2.17, 2.12, 2.14, 2.16, 2.12, 2.18, 2.2, 2.24, 2.25, 2.32, 2.42, 2.55, 2.55, 2.58, 2.67, 2.55, 2.51, 2.61, 2.64, 2.69, 2.69, 2.73, 2.77, 2.79, 2.73, 2.71, 2.73, 2.7, 2.75, 2.87, 2.97, 2.95, 3.01, 3.1, 2.97, 2.87, 2.85, 2.84, 2.71, 2.56, 2.47, 2.56, 2.66, 2.75, 2.84, 2.8, 2.66, 2.52, 2.47, 2.45, 2.49, 2.33, 2.3, 2.45, 2.54, 2.51, 2.52, 2.57, 2.31, 2.39, 2.49, 2.45, 2.48, 2.49, 2.35, 2.53, 2.65, 2.81, 2.7, 2.66, 2.82, 2.89, 2.9, 2.99, 3.0, 2.98, 2.96, 3.02, 2.97, 2.76, 2.73, 2.81, 2.82, 2.75, 2.62, 2.59, 2.44, 2.39, 2.38, 2.16, 2.33, 2.23, 2.24, 2.22, 2.16, 2.05, 1.99, 1.96, 2.25, 2.22, 2.17, 2.18, 2.16, 2.19, 2.16, 2.23, 2.2, 2.27, 2.35, 2.49, 2.54, 2.52, 2.55, 2.67, 2.59, 2.45, 2.42, 2.36, 2.32, 2.34, 2.3, 2.16, 2.17, 2.18, 2.19, 2.2, 2.23, 2.25, 2.29, 2.28, 2.35, 2.4, 2.53, 2.55, 2.55, 2.66, 2.73, 2.76, 2.84, 2.69, 2.81, 2.91, 2.85, 2.78, 2.81, 2.6, 2.62, 2.65, 2.65, 2.61, 2.61, 2.65, 2.66, 2.65, 2.55, 2.5, 2.52, 2.51, 2.6, 2.65, 2.71, 2.8, 2.72, 2.76, 2.78, 2.74, 2.69, 2.79, 2.83, 2.76, 2.84, 2.81, 2.73, 2.74, 2.78, 2.76, 2.82, 2.82, 2.94, 2.92, 2.83, 2.88, 2.92, 2.87, 2.86, 2.98, 2.99, 2.97, 2.98, 3.05, 3.05, 3.11, 3.13, 3.12, 3.12, 3.07, 3.12, 3.18, 3.12, 3.06, 3.09, 3.16, 3.2, 3.18, 3.09, 3.11, 3.12, 3.25, 3.2, 3.37, 3.35, 3.37, 3.45, 3.49, 3.73, 3.76, 3.95, 3.85, 3.94, 4.18, 4.29, 4.35, 4.52, 4.39, 4.21, 4.17, 4.48, 4.23, 3.96, 4.14, 4.22, 4.27, 4.16, 4.38, 4.45, 4.38, 4.02, 4.14, 4.44, 4.42, 4.37, 4.55, 4.44, 4.25, 4.36, 4.36, 4.24, 4.02, 4.0, 4.19, 4.17, 4.29, 4.08, 4.17, 4.13, 3.99, 4.07, 3.86, 3.88, 3.74, 3.63, 3.59, 3.75, 3.89, 3.75, 3.78, 4.05, 4.23, 4.25, 4.39, 4.46, 4.48, 4.43, 4.44, 4.42, 4.24, 4.24, 4.35, 4.38, 4.6, 4.8, 4.67, 4.53, 4.55, 4.62, 4.6, 4.61, 4.76, 4.7, 4.81, 4.89, 4.85, 4.74, 4.85, 4.96, 5.06, 5.1, 5.28, 5.06, 5.22, 5.24, 5.16, 5.16, 5.12, 5.28, 5.34, 5.2, 5.1, 5.24, 5.29, 5.22, 5.21, 5.04, 5.09, 5.16, 5.1, 5.54, 5.43, 5.34, 5.27, 5.36, 5.04, 4.84, 4.82, 4.84, 4.64, 4.61, 4.48, 4.56, 4.37, 4.4, 4.5, 4.64, 4.6, 4.68, 4.92, 5.34, 5.24, 5.59, 5.81, 5.95, 5.94, 5.62, 6.23, 6.35, 6.3, 6.24, 5.9, 5.93, 6.31, 6.53, 7.41, 8.03, 8.75, 8.48, 8.13, 9.96, 8.58, 7.8, 7.48, 8.03, 9.28, 9.11, 9.95, 10.49, 10.48, 10.23, 9.58, 9.22, 10.48, 9.97, 9.71, 9.45, 10.03, 10.31, 9.95, 9.91, 8.95, 8.75, 8.16, 7.85, 7.09, 7.61, 7.7, 7.02, 6.81, 6.81, 7.0, 6.76, 5.96, 5.83, 5.82, 6.76, 6.15, 5.59, 5.67, 6.24, 6.24, 5.74, 5.58, 5.89, 5.35, 5.57, 5.17, 5.2, 5.11, 5.05, 5.07, 5.07, 5.25, 5.25, 5.06, 5.32, 5.27, 5.22, 5.25, 5.13, 4.98, 5.08, 4.99, 5.27, 5.27, 5.27, 5.27, 5.16, 5.16, 5.16, 5.23, 5.47, 5.6, 5.31, 5.35, 5.25, 5.25, 5.24, 5.27, 5.33, 5.45, 5.55, 5.45, 5.32, 5.48, 5.36, 5.15, 5.06, 5.0, 5.09, 5.13, 4.98, 4.92, 4.83, 4.73, 4.55, 4.54, 4.46, 4.5, 4.33, 4.22, 4.15, 4.17, 4.25, 4.28, 4.46, 4.46, 4.2, 4.15, 4.14, 4.04, 4.11, 4.12, 3.83, 3.86, 3.66, 3.73, 3.7, 3.98, 3.93, 3.76, 3.68, 3.62, 3.91, 4.05, 4.13, 3.92, 3.86, 3.91, 3.96, 3.83, 3.69, 3.68, 3.56, 3.46, 3.39, 3.2, 2.91, 2.92, 3.0, 3.09, 2.99, 3.1, 3.2, 3.21, 3.29, 3.15, 3.08, 3.14, 3.15, 3.01, 2.97, 3.02, 3.0, 3.06, 3.26, 3.06, 3.28, 3.31, 3.27, 3.15, 3.06, 3.07, 3.16, 3.11, 3.1, 2.99, 3.0, 3.05, 3.15, 3.46, 3.24, 3.17, 3.18, 3.2, 2.87, 2.77, 2.61, 2.57, 2.46, 2.47, 2.15, 2.23, 2.34, 2.43, 2.36, 2.38, 2.38, 2.44, 2.39, 2.41, 2.36, 2.18, 2.13, 2.06, 2.04, 1.99, 1.94, 1.88, 1.9, 1.8, 1.74, 1.83, 1.97, 2.13, 2.11, 2.02, 2.11, 2.22, 2.41, 2.28, 2.26, 2.51, 2.61, 2.39, 2.31, 2.61, 2.82, 2.67, 3.15, 3.06, 3.21, 3.11, 3.07, 2.99, 2.93, 2.87, 2.72, 2.73, 2.68, 2.61, 2.45, 2.38, 2.29, 1.99, 1.69, 2.08, 2.55, 1.91, 1.79, 1.87, 2.3, 2.19, 1.83, 2.1, 2.0, 1.89, 1.81, 2.11, 2.28, 2.58, 2.57, 2.4, 2.4, 2.4, 2.4, 2.4, 2.4, 2.4, 2.4, 2.4, 2.4, 2.4, 2.55, 2.58, 2.58, 2.58, 2.39, 2.31, 2.32, 2.32, 2.32, 2.32, 2.38, 2.4, 2.28, 2.28, 2.28, 2.13, 2.03, 2.03, 2.03, 2.28, 2.28, 2.28, 2.28, 2.28, 2.14, 2.17, 2.21, 2.22, 2.39, 2.37, 2.26, 2.18, 2.32, 2.41, 2.4, 2.4, 2.4, 2.46, 2.49, 2.49, 2.51, 2.66, 2.63, 2.52, 2.73, 2.82, 2.9, 2.94, 2.97, 2.78, 2.99, 3.15, 3.33, 3.29, 3.2, 3.57, 3.46, 3.59, 3.35, 3.18, 3.43, 3.72, 3.68, 3.56, 3.31, 3.36, 3.25, 3.25, 3.14, 3.07, 3.27, 3.44, 3.4, 3.5, 3.4, 3.58, 3.63, 3.53, 3.46, 3.32, 3.44, 3.65, 3.79, 3.65, 3.71, 3.61, 3.5, 3.74, 3.72, 3.7, 3.62, 3.75, 3.6, 3.45, 3.41, 3.44, 3.33, 3.39, 3.38, 3.21, 3.18, 3.3, 3.33, 3.15, 3.18, 3.31, 3.29, 3.29, 3.11, 3.14, 3.11, 3.15, 3.04, 3.13, 3.34, 3.23, 3.24, 3.33, 3.18, 3.33, 3.49, 3.92, 3.22, 3.2, 3.28, 3.17, 3.08, 3.06, 2.97, 3.04, 2.85, 2.87, 2.83, 2.89, 2.97, 2.85, 2.95, 3.01, 2.95, 2.91, 3.05, 2.94, 3.07, 2.97, 3.02, 3.07, 2.9, 2.81, 2.8, 2.73, 2.75, 2.83, 2.91, 3.01, 3.03, 2.92, 3.1, 3.1, 3.25, 3.22, 3.36, 3.48, 3.51, 3.47, 3.31, 3.25, 3.12, 3.1, 3.13, 3.2, 3.39, 3.24, 3.35, 3.33, 3.22, 3.37, 3.45, 3.46, 3.8, 3.9, 3.95, 3.87, 4.0, 3.76, 3.61, 3.76, 4.09, 4.41, 4.27, 4.23, 3.86, 3.77, 3.86, 3.91, 3.93, 3.8, 4.19, 4.19, 4.1, 4.1, 4.11, 4.23, 4.2, 4.24, 4.3, 4.12, 4.16, 4.2, 4.34, 4.39, 4.07, 3.94, 3.9, 3.92, 3.9, 3.76, 3.83, 3.83, 3.83, 3.9, 3.92, 4.18, 4.25, 4.27, 4.24, 4.32, 4.34, 4.23, 4.19, 4.23, 4.35, 4.24, 4.35, 4.39, 4.32, 4.4, 4.63, 4.81, 5.05, 5.31, 5.13, 4.98, 5.14, 5.05, 5.03, 5.03, 4.98, 4.81, 4.74, 4.59, 4.93, 5.13, 4.94, 4.89, 5.07, 5.05, 5.19, 5.23, 5.25, 5.21, 5.5, 5.66, 5.47, 5.72, 6.55, 5.91, 5.91, 5.52, 5.61, 5.76, 5.58, 5.71, 6.26, 6.22, 6.08, 6.3, 6.35, 6.19, 6.19, 5.81, 5.88, 6.09, 6.1, 6.38, 6.73, 11.98, 18.48, 10.47, 8.42, 10.81, 8.51, 7.71, 7.8, 7.57, 7.42, 6.78, 6.25, 5.8, 5.71, 5.17, 5.32, 5.13, 5.2, 5.2, 5.05, 5.07, 5.07, 4.9, 4.87, 5.06, 5.01, 4.9, 4.89, 4.91, 4.86, 4.98, 5.21, 5.11, 5.18, 5.28, 5.29, 5.53, 5.62, 5.54, 5.55, 5.58, 5.58, 5.46, 5.39, 5.3, 5.12, 5.25, 5.32, 5.24, 5.36, 5.64, 5.49, 5.65, 5.73, 5.91, 5.98, 6.17, 6.24, 5.96, 6.08, 5.93, 6.08, 6.09, 5.92, 5.84, 5.71, 5.76, 5.99, 6.22, 6.25, 6.4, 6.17, 6.25, 6.25, 6.08, 6.06, 5.86, 5.44, 5.45, 5.66, 5.53, 5.53, 5.68, 5.89, 5.84, 5.64, 5.49, 5.19, 5.31, 5.22, 5.05, 4.96, 5.2, 5.4, 5.56, 5.4, 5.22, 5.15, 5.17, 5.0, 4.96, 5.01, 5.11, 5.04, 4.88, 4.86, 4.68, 4.68, 4.72, 4.68, 4.63, 4.71, 4.81, 4.71, 4.74, 4.85, 5.02, 5.08, 5.06, 5.17, 5.1, 4.83, 4.94, 4.99, 5.03, 5.14, 5.24, 5.26, 5.09, 5.11, 4.94, 4.86, 4.62, 4.68, 4.7, 4.76, 4.82, 4.7, 4.78, 4.85, 4.66, 4.66, 4.67, 4.61, 4.52, 4.33, 4.38, 4.51, 4.58, 4.55, 4.42, 4.57, 4.66, 4.47, 4.42, 4.34, 4.4, 4.66, 4.84, 4.78, 4.92, 4.96, 4.84, 4.93, 4.92, 4.53, 4.3, 4.64, 4.89, 4.9, 4.78, 4.56, 4.45, 4.51, 4.4, 3.98, 4.12, 4.01, 4.46, 4.74, 4.48, 4.42, 4.52, 4.77, 4.6, 4.62, 4.49, 4.35, 4.46, 4.35, 4.15, 4.57, 4.49, 4.86, 5.02, 5.45, 5.45, 5.7, 6.27, 6.06, 6.52, 6.67, 6.56, 6.73, 6.63, 6.58, 6.56, 6.98, 6.92, 6.32, 5.58, 5.5, 5.46, 5.96, 5.76, 6.28, 7.04, 6.61, 6.41, 6.91, 6.29, 6.26, 5.73, 6.02, 5.43, 6.15, 6.26, 6.03, 5.82, 5.7, 5.87, 6.04, 5.99, 5.8, 5.51, 5.69, 5.74, 5.54, 5.38, 5.44, 5.49, 5.34, 5.35, 5.62, 5.43, 5.33, 5.28, 5.19, 5.1, 5.08, 5.1, 5.13, 5.27, 5.17, 5.37, 5.34, 5.17, 5.32, 5.42, 5.34, 5.33, 5.33, 5.52, 5.59, 5.6, 5.61, 5.63, 5.49, 5.46, 5.36, 5.35, 5.22, 5.16, 5.25, 5.4, 5.63, 5.82, 5.69, 5.81, 5.7, 5.76, 5.84, 5.85, 5.92, 5.73, 5.68, 5.62, 5.57, 5.46, 5.52, 5.59, 5.53, 5.6, 5.81, 5.8, 5.78, 5.81, 5.8, 6.21, 6.09, 6.22, 6.18, 6.14, 6.24, 6.41, 6.42, 6.43, 6.41, 6.28, 6.18, 6.44, 6.35, 6.48, 6.73, 6.7, 6.51, 6.45, 6.45, 6.51, 6.44, 6.15, 6.09, 6.19, 6.04, 6.0, 6.15, 6.35, 6.38, 6.57, 6.48, 6.42, 6.29, 6.3, 6.41, 6.28, 6.13, 6.02, 6.03, 5.95, 5.88, 6.16, 6.27, 6.19, 5.89, 5.95, 5.85, 5.91, 5.92, 5.77, 5.75, 5.8, 5.9, 5.85, 5.98, 5.94, 5.87, 5.77, 5.93, 6.03, 5.86, 5.77, 5.7, 5.54, 5.42, 5.58, 5.78, 5.64, 5.46, 5.27, 5.34, 5.27, 5.36, 5.34, 5.39, 5.34, 5.23, 5.32, 5.19, 5.05, 5.05, 5.04, 5.02, 4.75, 4.32, 4.41, 4.69, 4.57, 4.57, 5.12, 5.15, 5.17, 4.82, 4.95, 5.22, 5.43, 5.58, 5.58, 5.41, 5.22, 5.45, 6.26, 6.36, 5.38, 5.72, 6.07, 6.0, 6.24, 5.59, 5.63, 5.63, 5.38, 5.76, 5.64, 5.64, 6.13, 7.27, 7.35, 7.11, 7.75, 7.78, 8.12, 6.8, 6.43, 6.98, 6.88, 7.25, 7.4, 6.08, 6.62, 5.79, 6.12, 6.19, 5.9, 6.02, 6.57, 6.06, 5.59, 4.81, 5.24, 5.24, 5.01, 6.76, 6.79, 6.78, 6.69, 6.04, 6.05, 6.03, 5.98, 6.04, 6.29, 6.89, 7.1, 7.04, 6.88, 7.26, 7.14, 6.83, 7.05, 6.98, 6.57, 6.27, 6.18, 6.02, 5.53, 5.71, 5.84, 5.79, 5.82, 6.21, 5.96, 5.89, 6.06, 6.45, 6.69, 6.19, 6.27, 6.43, 6.41, 6.44, 6.44, 6.5, 6.23, 6.14, 6.28, 6.38, 6.32, 6.12, 6.02, 5.95, 6.2, 6.21, 6.02, 5.95, 6.01, 6.1, 6.05, 5.88, 5.92, 6.02, 6.33, 6.24, 6.62, 6.63, 6.61, 6.71, 6.51, 6.66, 6.81, 6.99, 6.91, 6.73, 6.86, 7.16, 7.08, 7.25, 7.12, 7.16, 7.24, 7.11, 7.07, 6.94, 6.93, 7.18, 7.46, 7.57, 7.8, 7.44, 7.46, 7.5, 7.26, 7.17, 7.34, 7.07, 7.02, 6.95, 6.95, 6.95, 7.1, 6.93, 7.06, 7.27, 7.08, 7.1, 6.67, 6.64, 6.5, 6.61, 6.49, 6.65, 6.67, 6.56, 6.67, 6.63, 6.62, 6.47, 6.45, 6.41, 6.5, 6.39, 6.36, 6.33, 6.45, 6.33, 6.3, 6.22, 6.31, 6.36, 6.63, 6.65, 7.05, 7.13, 7.22, 7.05, 7.09, 7.08, 7.32, 7.39, 7.41, 7.61, 7.8, 7.46, 7.39, 7.51, 7.45, 7.29, 7.04, 7.08, 7.01, 7.01, 7.38, 7.69, 7.62, 7.87, 7.35, 7.79, 7.78, 7.99, 8.02, 7.77, 7.7, 7.75, 7.64, 7.41, 7.38, 7.45, 7.52, 7.69, 7.76, 8.03, 8.38, 8.75, 8.55, 8.6, 8.93, 8.7, 8.82, 9.29, 9.59, 9.53, 9.66, 9.99, 9.38, 9.09, 9.44, 9.96, 10.02, 9.77, 9.86, 9.86, 12.36, 12.69, 11.36, 11.75, 11.56, 11.03, 10.92, 11.03, 10.68, 10.71, 10.8, 11.24, 11.25, 11.99, 12.76, 14.26, 14.84, 13.67, 13.29, 13.67, 13.77, 13.48, 12.8, 13.89, 13.41, 13.52, 13.24, 12.73, 12.95, 13.9, 14.68, 13.9, 13.1, 12.18, 10.8, 10.85, 10.79, 9.67, 8.77, 9.15, 9.31, 9.66, 9.2, 9.15, 9.21, 11.03, 11.92, 10.01, 10.48, 11.15, 11.02, 11.01, 11.17, 11.73, 12.58, 12.95, 14.27, 13.57, 13.95, 14.25, 15.02, 14.82, 15.39, 14.81, 14.07, 13.36, 13.73, 13.79, 13.56, 13.03, 11.17, 10.22, 9.9, 10.07, 9.52, 9.9, 9.25, 9.24, 9.3, 8.79, 8.6, 8.55, 8.7, 8.5, 8.82, 8.86, 8.21, 8.8, 8.29, 8.27, 8.5, 7.86, 8.19, 8.36, 8.73, 8.71, 8.01, 8.01, 8.24, 7.74, 7.88, 7.55, 7.57, 7.36, 7.03, 7.31, 7.16, 7.39, 7.4, 7.55, 7.23, 7.39, 6.97, 6.69, 6.62, 6.69, 6.59, 6.5, 6.53, 6.47, 6.31, 6.4, 6.77, 7.15, 7.1, 7.12, 7.17, 7.0, 6.83, 7.06, 7.16, 7.43, 7.05, 7.15, 7.16, 7.19, 6.98, 7.08, 7.04, 6.89, 7.06, 6.81, 6.83, 6.99, 6.78, 6.64, 7.22, 7.6, 7.72, 7.95, 7.65, 7.73, 7.37, 7.17, 6.94, 6.64, 6.53, 6.68, 6.56, 6.47, 6.8, 6.54, 6.55, 6.5, 6.8, 6.35, 5.92, 5.99, 6.15, 5.79, 5.77, 5.91, 6.27, 6.01, 5.85, 5.78, 6.2, 5.97, 6.25, 6.23, 6.4, 6.16, 5.82, 5.84, 6.1, 6.02, 5.95, 6.08, 6.43, 7.03, 6.71, 6.62, 6.5, 6.51, 6.14, 5.89, 5.97, 6.04, 6.09, 5.84, 5.7, 5.28, 5.18, 5.32, 5.51, 5.66, 5.92, 6.28, 6.27, 6.02, 5.89, 6.14, 5.9, 6.33, 6.78, 6.71, 7.03, 7.24, 8.04, 8.66, 8.65, 7.61, 7.44, 6.97, 7.06, 7.6, 7.95, 7.56, 6.89, 6.9, 7.01, 6.73, 6.66, 6.72, 6.86, 7.19, 7.22, 7.48, 6.51, 6.24, 6.4, 5.8, 5.24, 5.45, 5.7, 5.64, 5.31, 5.29, 5.57, 5.4, 5.09, 4.4, 5.02, 4.99, 4.87, 4.65, 4.47, 4.31, 4.36, 4.35, 4.15, 3.66, 4.11, 4.01, 4.38, 4.69, 4.41, 5.06, 5.16, 5.66, 5.17, 4.3, 5.13, 6.26, 6.07, 6.77, 6.88, 7.29, 7.13, 7.2, 7.91, 7.41, 6.99, 6.64, 7.15, 7.32, 7.43, 6.72, 6.59, 7.39, 7.35, 7.16, 7.26, 7.42, 7.45, 7.59, 7.23, 7.79, 7.57, 7.42, 7.58, 7.61, 7.74, 8.32, 8.42, 7.84, 7.32, 7.32, 7.61, 7.45, 6.81, 6.93, 7.21, 7.26, 6.82, 6.62, 6.27, 6.43, 6.09, 5.88, 5.72, 5.54, 5.63, 5.5, 5.4, 5.47, 5.6, 5.52, 6.02, 6.15, 6.42, 6.09, 5.97, 6.82, 6.57, 6.29, 6.4, 7.2, 7.53, 7.58, 7.18, 6.95, 7.35, 7.32, 7.76, 7.93, 8.17, 9.14, 8.29, 7.9, 8.06, 8.16, 7.78, 8.09, 8.9, 8.91, 8.45, 7.34, 7.51, 7.47, 7.53, 7.73, 7.44, 7.23, 7.07, 7.22, 7.36, 7.55, 7.5, 7.14, 7.05, 6.81, 6.78, 6.86, 7.02, 6.84, 6.7, 6.81, 6.82, 7.07, 7.16, 7.15, 7.15, 7.47, 7.34, 7.5, 7.62, 7.57, 7.46, 7.53, 7.65, 7.65, 7.97, 7.95, 7.93, 7.66, 7.5, 7.54, 7.54, 7.32, 7.24, 7.57, 7.6, 7.56, 7.44, 7.71, 7.64, 7.64, 7.58, 7.82, 7.69, 7.5, 7.46, 7.63, 7.53, 7.85, 7.68, 7.62, 7.69, 7.87, 7.66, 7.6, 7.51, 7.56, 7.47, 7.51, 7.71, 7.8, 7.57, 7.73, 7.83, 7.83, 7.89, 7.52, 7.42, 7.45, 7.6, 7.48, 7.58, 7.69, 7.46, 7.39, 7.24, 7.04, 6.77, 6.85, 6.74, 6.79, 6.4, 6.24, 6.37, 6.3, 6.15, 6.39, 6.44, 6.66, 6.26, 6.27, 6.32, 6.34, 6.23, 6.5, 6.46, 6.0, 5.66, 5.56, 5.83, 5.77, 6.31, 6.53, 6.19, 6.34, 6.11, 6.1, 6.38, 6.24, 6.45, 6.57, 7.15, 6.86, 7.3, 6.96, 7.14, 6.47, 5.92, 5.84, 5.73, 5.69, 5.34, 5.56, 5.64, 5.54, 5.49, 5.3, 5.8, 6.02, 5.53, 5.56, 5.98, 6.13, 6.27, 6.23, 6.38, 6.42, 6.25, 6.02, 5.96, 6.12, 6.54, 6.47, 6.38, 6.15, 6.07, 6.55, 6.96, 6.91, 6.77, 6.69, 6.63, 6.79, 6.85, 6.46, 7.09, 7.29, 7.12, 7.11, 6.91, 6.63, 6.3, 6.11, 6.49, 6.43, 6.66, 6.99, 7.28, 7.09, 6.63, 6.71, 7.2, 7.42, 6.81, 6.59, 6.83, 7.22, 7.28, 7.35, 7.29, 7.38, 6.81, 6.67, 6.67, 7.53, 7.42, 7.51, 7.45, 7.29, 6.97, 7.27, 7.04, 7.29, 7.04, 6.98, 7.12, 7.22, 7.46, 7.09, 7.06, 7.16, 7.18, 7.19, 7.03, 7.03, 6.94, 6.8, 7.11, 7.11, 7.83, 7.84, 7.51, 7.61, 7.59, 7.89, 7.96, 8.13, 8.45, 8.43, 8.23, 8.1, 8.42, 7.97, 7.84, 7.85, 7.8, 7.87, 8.1, 8.17, 8.1, 7.88, 7.56, 7.8, 7.94, 7.99, 8.06, 8.38, 8.37, 8.35, 8.5, 8.73, 8.91, 9.08, 8.9, 8.65, 9.15, 9.21, 9.21, 9.11, 9.1, 9.07, 9.21, 9.37, 9.7, 9.82, 9.59, 9.85, 9.69, 9.74, 9.84, 9.59, 9.1, 9.11, 8.54, 8.99, 9.28, 9.25, 9.3, 9.36, 9.86, 9.92, 9.6, 9.68, 9.36, 9.48, 9.78, 9.88, 10.18, 10.07, 10.03, 10.16, 10.11, 10.27, 10.08, 10.5, 10.56, 10.33, 10.58, 10.72, 10.95, 10.94, 10.81, 10.66, 10.37, 10.77, 11.09, 11.08, 11.33, 11.29, 11.38, 11.18, 11.52, 11.41, 11.31, 11.1, 10.94, 11.4, 11.57, 11.56, 11.85, 11.6, 11.81, 11.43, 11.8, 12.27, 12.17, 12.49, 12.71, 12.71, 12.72, 12.49, 12.51, 12.51, 12.73, 12.87, 12.93, 13.09, 12.76, 12.92, 12.96, 12.76, 12.7, 13.1, 13.19, 13.28, 13.31, 13.0, 12.96, 12.47, 12.1, 11.83, 12.15, 11.58, 11.79, 11.15, 11.43, 10.54, 10.58, 10.16, 9.88, 9.7, 9.34, 9.26, 9.17, 9.01, 9.26, 9.05, 9.2, 8.66, 8.7, 8.77, 8.22, 8.18, 8.23, 8.11, 8.15, 7.82, 7.74, 7.73, 8.02, 8.04, 7.98, 7.63, 8.02, 8.54, 8.36, 8.24, 8.24, 7.26, 7.24, 7.4, 7.68, 7.28, 7.65, 7.83, 8.02, 8.02, 7.76, 7.72, 8.26, 7.79, 7.66, 7.84, 8.15, 7.63, 7.42, 7.13, 7.17, 7.41, 7.64, 7.16, 6.87, 6.74, 6.58, 6.69, 6.52, 6.62, 6.74, 6.64, 6.65, 6.76, 6.98, 6.76, 6.94, 6.77, 6.29, 6.27, 6.4, 6.58, 6.75, 6.18, 6.45, 6.79, 6.94, 7.04, 6.6, 7.07, 7.02, 6.65, 6.31, 6.33, 6.55, 6.74, 6.76, 6.76, 6.56, 6.85, 6.71, 6.43, 6.43, 6.48, 6.68, 6.48, 6.55, 5.99, 5.73, 5.57, 5.67, 5.86, 5.56, 5.75, 5.75, 5.79, 5.63, 5.66, 5.39, 5.37, 5.44, 5.44, 5.81, 5.71, 5.63, 5.41, 5.83, 6.1, 5.89, 5.96, 5.6, 5.59, 5.7, 5.47, 5.27, 5.09, 4.86, 4.87, 4.72, 4.75, 4.62, 4.76, 4.84, 4.71, 4.77, 4.48, 5.04, 5.01, 4.84, 4.67, 4.76, 4.84, 4.68, 4.73, 4.6, 4.35, 4.35, 4.46, 4.21, 4.23, 4.21, 4.2, 4.08, 4.04, 4.36, 4.43, 4.23, 4.22, 3.93, 3.86, 3.88, 3.92, 3.87, 3.9, 3.78, 3.78, 3.75, 3.68, 3.99, 4.17, 4.13, 4.13, 4.16, 3.73, 3.63, 3.58, 3.56, 3.69, 3.66, 3.74, 3.6, 3.5, 3.59, 3.46, 3.59, 3.6, 3.54, 3.47, 3.55, 3.43, 3.48, 3.46, 3.31, 3.19, 3.29, 3.43, 3.25, 3.3, 3.47, 3.62, 3.67, 3.96, 4.16, 4.24, 4.41, 4.42, 4.1, 4.05, 4.02, 3.99, 3.75, 3.77, 3.41, 3.35, 3.49, 3.55, 3.92, 3.86, 4.05, 3.81, 3.58, 3.51, 3.53, 3.53, 3.56, 3.51, 3.54, 3.8, 4.16, 3.99, 4.19, 4.04, 4.01, 3.91, 3.8, 3.82, 3.81, 3.88, 3.72, 3.63, 3.49, 3.24, 3.3, 3.22, 3.36, 3.24, 3.17, 3.29, 3.37, 3.21, 3.39, 3.49, 3.48, 3.49, 3.66, 3.37, 3.46, 3.49, 3.41, 3.34, 3.34, 3.43, 3.53, 3.61, 3.78, 3.57, 3.55, 3.54, 3.36, 3.34, 3.18, 3.11, 3.12, 3.03, 3.03, 2.78, 2.69, 2.85, 2.76, 2.76, 2.52, 2.42, 2.36, 2.25, 2.06, 1.83, 2.43, 2.72, 2.68, 2.94, 2.84, 3.21, 3.28, 3.5, 3.21, 3.35, 3.37, 3.43, 3.56, 3.61, 3.54, 3.3, 3.25, 2.91, 2.32, 2.89, 3.23, 3.7, 4.24, 3.92, 3.96, 4.03, 3.82, 3.88, 3.94, 4.22, 4.6, 4.8, 4.98, 4.88, 4.52, 4.52, 4.59, 4.11, 4.11, 4.32, 4.33, 4.49, 4.3, 3.95, 3.78, 3.76, 3.59, 3.24, 2.51, 2.65, 3.47, 3.74, 3.57, 3.09, 3.79, 3.63, 3.32, 3.32, 4.41, 4.3, 4.67, 4.57, 4.53, 4.78, 5.1, 5.27, 5.02, 5.21, 5.41, 5.53, 5.57, 5.65, 5.87, 5.79, 5.56, 5.55, 5.75, 5.91, 6.01, 5.78, 5.82, 6.09, 6.19, 6.47, 7.51, 6.56, 5.77, 5.57, 5.61, 5.77, 5.66, 5.51, 5.54, 5.52, 5.67, 5.76, 5.61, 5.42, 5.32, 5.26, 5.3, 5.47, 5.51, 5.47, 5.61, 5.73, 5.54, 5.48, 5.53, 5.48, 5.65, 5.47, 5.4, 5.1, 4.92, 4.91, 4.91, 4.84, 4.76, 4.83, 4.78, 4.76, 4.78, 4.56, 4.47, 4.51, 4.44, 4.47, 4.35, 4.29, 4.38, 4.27, 4.19, 4.01, 4.02, 4.08, 4.02, 4.01, 3.92, 3.83, 3.79, 3.93, 3.72, 3.93, 4.16, 4.08, 3.92, 3.9, 4.04, 3.97, 4.15, 4.16, 3.97, 4.02, 3.93, 3.96, 3.95, 4.07, 4.23, 4.18, 4.19, 4.24, 3.94, 3.86, 3.96, 4.0, 3.97, 3.91, 4.08, 4.15, 4.18, 4.26, 4.27, 4.34, 4.42, 4.28, 4.12, 4.12, 4.08, 4.08, 4.19, 4.22, 4.31, 4.39, 4.32, 4.46, 4.6, 4.67, 4.89, 4.75, 4.68, 4.68, 4.94, 5.11, 5.13, 5.14, 5.17, 5.15, 4.87, 4.9, 4.88, 4.84, 4.85, 4.68, 4.53, 4.54, 4.72, 4.85, 4.76, 4.61, 4.36, 4.42, 4.46, 4.39, 4.43, 4.68, 4.56, 4.59, 4.7, 4.67, 4.69, 4.65, 4.72, 4.75, 4.8, 4.81, 4.94, 4.78, 4.77, 4.84, 4.67, 4.52, 4.43, 4.38, 4.42, 4.35, 4.37, 4.28, 4.35, 4.29, 4.19, 4.12, 4.07, 3.99, 3.85, 3.75, 3.77, 3.8, 3.73, 3.74, 3.74, 3.82, 3.81, 3.79, 3.79, 3.83, 3.98, 4.06, 4.09, 4.11, 4.01, 3.95, 4.02, 4.08, 3.97, 3.8, 3.8, 3.81, 3.85, 3.67, 3.56, 3.51, 3.56, 3.62, 3.36, 3.43, 3.4, 3.58, 3.58, 3.47, 3.36, 3.36, 3.46, 3.46, 3.19, 3.18, 3.28, 3.37, 3.36, 3.36, 3.42, 3.2, 3.35, 3.53, 3.47, 3.49, 3.76, 4.0, 3.73, 3.5, 3.56, 3.66, 3.77, 3.89, 3.79, 4.02, 3.93, 3.82, 3.82, 4.12, 4.16, 4.21, 4.28, 4.23, 4.47, 4.48, 4.47, 4.52, 4.37, 4.55, 4.35, 4.22, 4.19, 3.99, 4.1, 4.17, 4.01, 4.08, 4.05, 4.1, 4.19, 4.22, 4.22, 4.54, 4.61, 4.52, 4.49, 4.42, 4.49, 4.42, 4.55, 4.48, 4.38, 4.52, 4.48, 4.57, 4.72, 4.72, 4.46, 4.4, 4.41, 4.27, 4.42, 4.42, 4.55, 4.69, 4.48, 4.32, 4.24, 4.22, 4.11, 3.96, 3.89, 3.92, 3.93, 3.9, 3.84, 3.89, 3.83, 3.83, 3.81, 3.93, 3.93, 3.79, 3.75, 3.7, 3.73, 3.83, 3.81, 3.87, 3.78, 3.9, 3.81, 3.86, 3.85, 3.98, 3.99, 4.05, 4.18, 4.27, 4.13, 4.35, 4.27, 4.25, 4.32, 4.32, 4.21, 4.22, 4.17, 4.12, 4.05, 4.05, 4.08, 4.14, 4.12, 4.21, 4.23, 4.19, 4.33, 4.33, 4.37, 4.32, 4.35, 4.38, 4.51, 4.6, 4.6, 4.59, 4.49, 4.24, 4.28, 4.19, 4.23, 4.1, 4.09, 4.21, 4.25, 4.15, 4.1, 4.05, 4.27, 4.37, 4.36, 4.37, 4.36, 4.63, 4.62, 4.64, 4.72, 4.83, 4.83, 4.83, 4.92, 4.72, 4.75, 4.59, 4.53, 4.54, 4.39, 4.33, 4.37, 4.42, 4.31, 4.2, 4.25, 4.34, 4.4, 4.28, 4.33, 4.4, 4.34, 4.25, 4.19, 4.35, 4.38, 4.43, 4.42, 4.49, 4.6, 4.6, 4.64, 4.58, 4.46, 4.45, 4.43, 4.46, 4.41, 4.26, 4.29, 4.3, 4.26, 4.2, 4.0, 4.0, 4.06, 4.09, 4.06, 4.17, 4.05, 4.03, 3.98, 3.98, 3.99, 3.97, 4.01, 4.1, 4.01, 3.96, 3.93, 3.85, 3.97, 4.18, 4.12, 3.93, 3.96, 3.99, 3.96, 3.92, 3.96, 4.01, 4.04, 3.84, 3.78, 3.84, 3.78, 3.72, 3.74, 3.8, 3.92, 3.88, 3.77, 3.68, 3.57, 3.56, 3.63, 3.49, 3.4, 3.41, 3.52, 3.54, 3.42, 3.49, 3.72, 3.63, 3.59, 3.61, 3.54, 3.61, 3.62, 3.65, 3.59, 3.63, 3.66, 3.49, 3.39, 3.39, 3.44, 3.35, 3.42, 3.55, 3.48, 3.29, 3.17, 3.12, 3.11, 3.11, 3.01, 2.94, 3.06, 2.84, 2.84, 3.09, 3.39, 3.53, 3.49, 3.35, 3.38, 3.43, 3.45, 3.42, 3.29, 3.13, 3.12, 3.08, 3.05, 3.01, 3.03, 3.06, 3.05, 3.08, 2.97, 3.09, 3.07, 3.03, 2.98, 2.97, 2.96, 2.91, 2.85, 2.89, 2.97, 2.81, 2.7, 2.67, 2.51, 2.49, 2.36, 2.23, 2.39, 2.6, 2.61, 2.68, 2.59, 2.71, 2.51, 2.32, 2.3, 2.4, 2.46, 2.6, 2.48, 2.5, 2.51, 2.42, 2.48, 2.54, 2.47, 2.67, 2.63, 2.6, 2.68, 2.6, 2.55, 2.44, 2.44, 2.45, 2.38, 2.31, 2.3, 2.24, 2.24, 2.21, 2.17, 2.15, 2.13, 2.07, 2.01, 2.14, 2.19, 2.21, 2.19, 2.07, 2.16, 2.09, 2.05, 2.02, 2.0, 1.88, 1.94, 2.06, 1.98, 1.99, 1.99, 1.91, 1.87, 1.87, 1.88, 1.89, 1.87, 1.85, 1.82, 1.89, 1.97, 1.99, 2.1, 2.05, 2.1, 2.29, 2.31, 2.29, 2.3, 2.3, 2.27, 2.36, 2.36, 2.37, 2.41, 2.38, 2.5, 2.6, 2.56, 2.6, 2.55, 2.6, 2.66, 2.56, 2.5, 2.39, 2.34, 2.24, 2.32, 2.39, 2.41, 2.33, 2.22, 2.22, 2.17, 2.18, 2.2, 2.44, 2.45, 2.59, 2.6, 2.48, 2.5, 2.7, 2.7, 2.87, 2.81, 2.74, 2.73, 2.78, 2.9, 2.94, 2.79, 2.87, 2.72, 2.83, 2.88, 2.92, 2.83, 2.84, 2.99, 3.03, 3.05, 3.16, 3.19, 3.13, 3.1, 3.14, 3.2, 3.2, 3.16, 2.91, 2.9, 2.99, 2.97, 2.89, 2.84, 2.77, 2.79, 2.82, 2.78, 2.7, 2.75, 2.8, 2.8, 2.81, 2.81, 2.8, 2.71, 2.64, 2.72, 2.72, 2.81, 2.87, 2.85, 2.73, 2.66, 2.82, 2.96, 3.01, 2.94, 2.83, 2.74, 2.7, 2.76, 2.76, 2.82, 2.84, 2.92, 3.01, 3.08, 3.19, 3.21, 3.21, 3.23, 3.26, 3.18, 3.18, 3.26, 3.28, 3.38, 3.35, 3.27, 3.24, 3.28, 3.43, 3.49, 3.34, 3.43, 3.39, 3.38, 3.4, 3.42, 3.5, 3.5, 3.4, 3.34, 3.41, 3.47, 3.45, 3.33, 3.4, 3.57, 3.66, 3.63, 3.46, 3.63, 3.62, 3.59, 3.59, 3.75, 3.77, 3.71, 3.61, 3.46, 3.44, 3.38, 3.41, 3.48, 3.33, 3.35, 3.39, 3.33, 3.27, 3.15, 3.2, 3.29, 3.25, 3.35, 3.42, 3.3, 3.35, 3.31, 3.4, 3.43, 3.3, 3.19, 3.2, 3.3, 3.21, 3.14, 3.08, 3.18, 3.39, 3.4, 3.43, 3.44, 3.54, 3.63, 3.53, 3.56, 3.42, 3.25, 3.14, 3.24, 3.33, 3.34, 3.27, 3.34, 3.41, 3.39, 3.26, 3.2, 3.3, 3.29, 3.3, 3.19, 3.23, 3.34, 3.29, 3.27, 3.42, 3.46, 3.49, 3.48, 3.54, 3.53, 3.63, 3.57, 3.54, 3.57, 3.64, 3.71, 3.72, 3.74, 3.89, 3.98, 3.96, 3.97, 4.01, 4.01, 4.08, 3.99, 4.08, 4.03, 3.97, 4.07, 4.0, 3.94, 3.98, 4.18, 4.08, 4.07, 4.11, 4.21, 4.23, 4.19, 4.24, 4.23, 4.38, 4.33, 4.27, 4.25, 4.19, 4.16, 4.28, 4.3, 4.31, 4.28, 3.98, 3.93, 3.88, 3.86, 3.87, 3.9, 3.87, 3.93, 4.03, 4.01, 3.89, 4.1, 4.13, 4.16, 4.15, 4.15, 4.19, 4.15, 4.12, 4.02, 4.0, 4.0, 3.99, 3.93, 3.79, 3.85, 3.77, 3.74, 3.73, 3.76, 3.78, 3.9, 3.93, 3.9, 3.85, 3.81, 3.77, 3.72, 3.73, 3.57, 3.52, 3.58, 3.54, 3.52, 3.65, 3.69, 3.69, 3.64, 3.61, 3.67, 3.69, 3.67, 3.66, 3.78, 3.71, 3.68, 3.7, 3.68, 3.59, 3.49, 3.48, 3.46, 3.44, 3.39, 3.33, 3.35, 3.32, 3.27, 3.32, 3.34, 3.34, 3.36, 3.34, 3.35, 3.46, 3.48, 3.51, 3.52, 3.5, 3.55, 3.5, 3.54, 3.58, 3.57, 3.64, 3.68, 3.7, 3.55, 3.62, 3.65, 3.6, 3.57, 3.6, 3.64, 3.77, 3.72, 3.73, 3.68, 3.66, 3.59, 3.52, 3.49, 3.51, 3.48, 3.56, 3.63, 3.58, 3.57, 3.62, 3.72, 3.7, 3.74, 3.74, 3.82, 3.83, 3.84, 3.75, 3.72, 3.77, 3.7, 3.66, 3.65, 3.69, 3.61, 3.57, 3.55, 3.57, 3.45, 3.38, 3.37, 3.46, 3.59, 3.54, 3.62, 3.69, 3.69, 3.52, 3.56, 3.71, 3.63, 3.63, 3.68, 3.78, 3.85, 3.87, 3.87, 3.87, 3.85, 3.84, 3.89, 3.97, 4.15, 4.24, 4.24, 4.24, 4.4, 4.44, 4.21, 4.2, 4.25, 4.25, 4.35, 4.52, 4.52, 4.4, 4.34, 4.41, 4.31, 4.32, 4.39, 4.5, 4.58, 4.36, 4.15, 3.95, 4.19, 4.36, 4.45, 4.55, 4.39, 4.61, 4.92, 5.64, 5.17, 5.66, 5.25, 5.23, 5.27, 5.04, 5.04, 5.78, 8.12, 6.9, 5.92, 8.15, 7.75, 5.96, 5.34, 5.54, 5.8, 6.0, 5.96, 6.24, 6.08, 5.21, 4.81, 4.61, 4.8, 7.09, 7.98, 6.46, 4.89, 4.78, 4.67, 4.67, 4.72, 4.41, 4.4, 4.57, 4.42, 4.43, 4.39, 4.33, 4.42, 4.53, 4.44, 4.39, 4.5, 4.48, 4.39, 4.39, 4.51, 4.49, 4.58, 4.57, 4.67, 4.67, 4.67, 4.64, 4.69, 4.64, 4.64, 4.76, 4.76, 4.81, 4.81, 4.83, 4.72, 4.78, 4.79, 4.79, 4.73, 4.73, 4.8, 4.82, 4.77, 4.59, 4.52, 4.47, 4.47, 4.42, 4.42, 4.54, 4.53, 4.57, 4.57, 4.4, 4.4, 4.56, 4.63, 4.49, 4.49, 4.62, 4.62, 4.66, 4.66, 4.67, 4.67, 4.51, 4.51, 4.7, 4.71, 4.68, 4.68, 4.67, 4.53, 4.53, 4.49, 4.58, 4.58, 4.39, 4.39, 4.47, 4.47, 4.31, 4.31, 4.18, 4.17, 4.15, 4.13, 4.13, 4.13, 4.16, 4.04, 4.08, 3.87, 3.81, 3.83, 3.83, 3.86, 3.84, 3.79, 3.78, 3.78, 3.77, 3.87, 3.87, 3.92, 3.99, 3.94, 4.0, 3.94, 3.9, 3.85, 3.8, 3.78, 3.84, 3.88, 3.88, 3.88, 3.94, 3.99, 4.02, 4.06, 4.04, 4.01, 3.94, 3.91, 3.86, 3.86, 3.93, 3.98, 3.94, 3.82, 3.92, 3.85, 3.97, 3.99, 3.99, 3.88, 3.9, 3.84, 3.89, 3.89, 3.89, 4.14, 4.14, 4.0, 3.94, 3.89, 3.88, 3.88, 3.87, 3.86, 3.87, 3.91, 3.81, 3.8, 3.73, 3.69, 3.62, 3.69, 3.6, 3.53, 3.56, 3.53, 3.6, 3.76, 3.82, 3.82, 3.67, 3.83, 3.92, 3.92, 4.18, 4.18, 4.2, 4.2, 4.05, 4.26, 4.33, 4.41, 4.41, 4.32, 4.09, 4.09, 4.15, 4.3, 4.3, 3.77, 3.63, 3.63, 3.42, 3.42, 3.63, 3.65, 3.68, 3.91, 3.72, 3.58, 3.72, 3.71, 3.71, 3.05, 2.99, 2.99, 2.74, 3.07, 3.14, 3.14, 3.01, 3.22, 2.98, 3.08, 2.92, 2.96, 2.9, 2.92, 3.15, 3.32, 3.11, 2.94, 2.94, 2.95, 2.96, 2.92, 2.96, 2.89, 2.88, 2.88, 2.88, 2.67, 2.73, 2.66, 2.66, 2.62, 2.67, 2.86, 2.86, 2.75, 2.75, 2.92, 2.92, 3.02, 3.22, 3.22, 3.21, 3.21, 2.79, 2.79, 3.0, 3.27, 3.27, 2.89, 2.75, 2.76, 2.76, 2.82, 2.72, 2.68, 2.82, 2.8, 2.86, 2.86, 2.72, 2.79, 2.77, 2.77, 2.89, 2.64, 2.65, 2.62, 2.63, 2.63, 2.71, 2.71, 2.72, 2.58, 2.58, 2.58, 2.62, 2.61, 2.67, 2.57, 2.59, 2.63, 2.59, 2.59, 2.5, 2.55, 2.55, 2.56, 2.68, 2.72, 2.76, 2.76, 2.74, 2.78, 2.85, 2.85, 2.85, 2.87, 2.96, 3.01, 3.01, 3.04, 2.96, 2.96, 2.82, 2.82, 2.78, 2.78, 2.78, 2.63, 2.65, 2.6, 2.6, 2.6, 2.72, 2.81, 2.88, 2.88, 2.89, 2.94, 2.93, 2.93, 2.81, 2.79, 2.83, 2.83, 2.8, 2.77, 2.77, 2.8, 2.78, 2.79, 2.79, 2.79, 2.77, 2.77, 2.7, 2.7, 2.88, 2.88, 2.93, 2.9, 2.88, 2.88, 2.84, 2.84, 2.92, 2.92, 2.92, 2.89, 2.91, 2.87, 2.76, 2.76, 2.83, 2.85, 2.76, 2.76, 2.85, 2.84, 2.93, 2.93, 2.83, 2.79, 2.71, 2.77, 2.77, 2.7, 2.65, 2.71, 2.73, 2.69, 2.69, 2.7, 2.7, 2.7, 2.67, 2.67, 2.67, 2.74, 2.74, 2.71, 2.67, 2.7, 2.74, 2.69, 2.69, 2.69, 2.61, 2.61, 2.62, 2.62, 2.6, 2.66, 2.57, 2.47, 2.37, 2.37, 2.34, 2.35, 2.35, 2.35, 2.49, 2.48, 2.47, 2.47, 2.54, 2.42, 2.43, 2.46, 2.37, 2.37, 2.28, 2.18, 2.14, 2.14, 2.15, 1.98, 1.92, 1.92, 2.04, 2.04, 2.19, 2.19, 2.14, 2.13, 2.05, 2.02, 2.02, 2.05, 2.1, 2.1, 2.18, 2.18, 2.14, 2.14, 2.14, 2.14, 2.11, 2.11, 2.19, 2.14, 2.1, 2.06, 2.01, 2.0, 1.95, 1.79, 1.7, 1.66, 1.7, 1.79, 1.74, 1.76, 1.73, 1.63, 1.63, 1.63, 2.11, 2.39, 2.28, 2.28, 2.28, 2.39, 2.33, 2.37, 2.35, 2.47, 2.54, 2.4, 2.28, 2.21, 2.18, 2.18, 2.23, 2.18, 2.22, 2.21, 2.16, 2.26, 2.26, 2.15, 2.28, 2.28, 2.07, 2.06, 2.07, 2.08, 2.23, 2.17, 2.16, 2.15, 2.08, 2.08, 1.95, 1.93, 1.89, 1.83, 1.86, 1.85, 1.85, 1.78, 1.78, 1.62, 1.57, 1.6, 1.59, 1.49, 1.56, 1.6, 1.61, 1.72, 1.74, 1.68, 1.81, 1.77, 1.84, 1.84, 1.79, 1.79, 1.79, 1.78, 1.78, 1.78, 1.77, 1.87, 1.98, 1.88, 1.96, 1.96, 1.91, 1.96, 1.99, 1.9, 1.97, 2.01, 1.93, 1.71, 1.76, 1.94, 1.94, 1.96, 1.92, 1.97, 1.97, 1.88, 1.88, 1.89, 1.91, 1.94, 2.03, 2.05, 1.86, 2.01, 2.01, 2.01, 2.01, 1.96, 1.91, 1.97, 1.91, 1.83, 1.81, 1.96, 1.91, 1.77, 1.77, 1.77, 1.77, 2.12, 2.25, 2.3, 2.31, 2.32, 2.32, 2.36, 2.34, 2.46, 2.55, 2.55, 2.62, 2.62, 2.59, 2.74, 2.79, 2.82, 2.69, 2.71, 2.79, 2.89, 2.94, 2.94, 2.89, 2.89, 2.82, 2.82, 2.78, 2.8, 2.88, 2.88, 2.81, 2.79, 2.7, 2.83, 2.83, 2.76, 2.76, 2.8, 2.8, 2.84, 2.84, 2.79, 2.97, 2.97, 2.79, 2.89, 2.89, 2.88, 2.85, 2.85, 2.76, 2.7, 2.7, 2.75, 2.75, 2.76, 2.75, 2.67, 2.75, 2.75, 2.82, 2.89, 2.91, 2.97, 2.95, 2.95, 2.95, 2.88, 2.88, 2.88, 2.77, 2.88, 2.93, 3.04, 3.04, 3.07, 2.98, 2.97, 3.0, 3.12, 3.19, 3.18, 3.06, 3.06, 3.09, 3.07, 2.98, 2.84, 2.84, 2.83, 2.83, 3.04, 3.02, 3.18, 3.17, 3.17, 3.16, 3.18, 3.21, 3.25, 3.18, 3.12, 2.92, 2.78, 2.69, 2.69, 2.72, 2.72, 2.85, 2.53, 2.53, 2.41, 2.2, 2.37, 2.34, 2.22, 2.08, 2.08, 2.26, 2.49, 2.49, 2.37, 2.6, 2.81, 2.73, 2.76, 2.76, 2.76, 2.96, 3.02, 3.32, 3.32, 3.44, 3.44, 3.75, 3.8, 3.68, 3.75, 3.6, 3.65, 3.55, 3.56, 3.51, 3.55, 3.39, 3.5, 3.5, 3.6, 3.6, 3.7, 3.7, 3.71, 3.71, 3.71, 3.41, 3.42, 3.42, 3.38, 3.14, 3.21, 3.27, 3.36, 3.36, 3.36, 3.37, 3.26, 3.25, 3.23, 3.16, 3.16, 3.26, 3.44, 3.31, 3.22, 3.0, 3.15, 3.13, 3.13, 2.92, 3.03, 3.05, 3.11, 3.11, 2.93, 2.85, 2.95, 2.88, 2.75, 2.75, 2.56, 2.52, 2.63, 2.63, 2.44, 2.54, 2.54, 2.59, 2.5, 2.68, 2.68, 2.59, 2.83, 2.98, 3.04, 3.02, 3.02, 2.84, 2.85, 2.93, 3.09, 3.02, 2.93, 2.97, 2.94, 2.95, 3.03, 3.08, 3.13, 3.13, 3.06, 3.22, 3.23, 3.23, 3.15, 3.11, 2.97, 3.0, 3.0, 3.09, 3.11, 3.11, 3.13, 3.06, 3.06, 2.99, 3.06, 3.13, 3.2, 3.2, 3.13, 3.14, 3.11, 3.1, 3.06, 3.03, 3.03, 3.23, 3.24, 3.26, 3.27, 3.27, 3.13, 3.11, 3.24, 3.22, 3.22, 3.1, 3.1, 3.1, 3.1, 3.05, 3.05, 2.85, 2.92, 2.92, 3.06, 2.98, 3.03, 3.12, 3.12, 2.95, 2.94, 3.01, 2.87, 2.91, 2.91, 2.88, 2.89, 2.98, 2.99, 3.03, 3.07, 2.98, 2.98, 2.98, 2.98, 2.89, 2.91, 2.92, 2.98, 3.01, 2.96, 2.94, 3.04, 3.11, 3.11, 3.12, 3.06, 2.99, 2.99, 2.92, 2.95, 2.96, 2.87, 2.8, 2.8, 2.76, 2.76, 2.8, 2.81, 2.81, 2.89, 2.96, 3.02, 2.96, 2.94, 2.91, 2.9, 3.0, 3.0, 2.94, 2.97, 2.93, 2.95, 2.95, 2.95, 2.92, 2.88, 2.88, 2.88, 2.98, 2.92, 2.88, 2.88, 2.88, 3.02, 3.03, 3.0, 3.11, 3.18, 3.13, 3.11, 2.93, 2.96, 2.96, 2.98, 2.96, 2.94, 2.94, 2.73, 2.8, 2.8, 2.93, 2.87, 2.89, 2.89, 2.95, 2.99, 2.87, 2.88, 2.81, 2.83, 2.8, 2.95, 2.95, 2.98, 2.91, 2.78, 2.94, 2.84, 2.68, 2.68, 2.75, 3.01, 3.07, 3.16, 3.18, 3.17, 3.13, 3.06, 3.16, 3.09, 3.04, 3.04, 3.05, 3.05, 3.05, 3.05, 2.88, 2.88, 3.06, 3.06, 2.84, 2.91, 2.86, 2.86, 2.81, 2.78, 2.81, 2.87, 2.87, 2.69, 2.6, 2.71, 2.75, 2.72, 2.64, 2.63, 2.68, 2.76, 2.97, 3.69, 6.24, 6.24, 4.65, null, 2.89, 2.93, 3.16, 3.16, 4.06, 5.46, 3.92, 3.92, 3.2, 3.13, 3.35, 3.54, 3.54, 3.58, 3.6, 3.6, 3.34, 3.06, 2.91, 2.85, 2.75, 2.74, 2.74, 2.66, 2.6, 2.58, 2.53, 2.49, 2.49, 2.61, 2.65, 2.65, 2.58, 2.6, 2.59, 2.66, 2.67, 2.67, 2.7, 2.7, 2.8, 2.8, 2.71, 2.78, 2.76, 2.69, 2.7, 2.62, 2.62, 2.71, 2.74, 2.62, 2.58, 2.63, 2.6, 2.64, 2.81, 2.75, 2.75, 2.81, 2.81, 2.81, 2.78, 2.78, 2.74, 2.76, 2.82, 2.88, 2.84, 2.85, 2.8, 2.78, 2.78, 2.79, 2.81, 2.81, 2.82, 2.75, 2.75, 2.77, 2.75, 2.75, 2.74, 2.77, 2.75, 2.78, 2.75, 2.84, 2.83, 2.85, 2.75, 2.75, 2.77, 2.76, 2.89, 2.88, 2.88, 2.84, 2.83, 2.94, 2.91, 2.89, 2.89, 2.89, 3.02, 2.91, 3.0, 2.98, 2.98, 2.99, 3.02, 2.99, 2.95, 2.96, 3.08, 2.95, 2.96, 2.98, 3.01, 2.99, 2.96, 2.9, 2.9, 2.91, 2.91, 2.9, 2.9, 2.89, 2.89, 2.86, 2.76, 2.81, 2.8, 2.75, 2.79, 2.79, 2.73, 2.82, 2.82, 2.78, 2.75, 2.82, 2.8, 2.77, 2.86, 2.85, 2.95, 2.99, 3.02, 2.96, 2.92, 3.02, 3.02, 3.02, 3.01, 3.04, 3.01, 3.02, 3.01, 2.99, 2.98, 2.98, 2.96, 2.96, 2.98, 2.96, 3.0, 2.93, 2.88, 2.9, 2.94, 2.98, 2.94, 2.91, 2.95, 3.0, 3.11, 3.07, 3.02, 3.04, 3.12, 3.1, 3.05, 3.01, 3.13, 3.14, 3.26, 3.39, 3.25, 3.28, 3.4, 3.45, 3.16, 3.19, 3.26, 3.27, 3.3, 3.28, 3.2, 3.2, 3.28, 3.42, 3.42, 3.27, 3.2, 3.27, 3.31, 3.36, 3.26, 3.53, 3.53, 3.54, 3.54, 3.74, 3.96, 4.1, 4.1, 4.69, 4.3, 4.65, 4.65, 4.7, 4.28, 4.28, 4.5, 4.5, 4.61, 4.4, 4.4, 4.69, 4.44, 4.51, 4.54, 4.53, 4.53, 4.31, 3.99, 3.8, 3.8, 3.64, 3.7, 3.7, 3.42, 3.1, 3.25, 3.25, 2.72, 2.8, 2.74, 2.89, 2.92, 2.95, 2.95, 3.36, 3.54, 3.58, 3.58, 3.43, 3.43, 3.13, 3.13, 3.07, 3.05, 2.94, 3.0, 2.82, 2.7, 2.57, 2.54, 2.58, 2.62, 2.66, 2.76, 2.71, 2.61, 2.61, 2.59, 2.69, 2.69, 2.73, 2.74, 2.84, 2.74, 2.89, 2.89, 3.19, 4.25, 3.18, 3.18, 2.9, 2.9, 2.86, 2.83, 2.87, 2.95, 2.95, 2.9, 2.92, 2.86, 2.86, 2.75, 2.72, 2.74, 2.69, 2.69, 2.73, 2.73, 2.76, 2.74, 2.66, 2.62, 2.72, 2.71, 2.72, 2.72, 2.75, 2.75, 2.66, 2.55, 2.54, 2.61, 2.53, 2.53, 2.54, 2.58, 2.58, 2.59, 2.59, 2.63, 2.59, 2.54, 2.54, 2.64, 2.62, 2.64, 2.71, 2.7, 2.69, 2.62, 2.61, 2.7, 2.73, 2.73, 2.56, 2.6, 2.65, 2.69, 2.69, 2.59, 2.5, 2.45, 2.45, 2.4, 2.43, 2.42, 2.41, 2.43, 2.43, 2.37, 2.46, 2.44, 2.43, 2.38, 2.27, 2.31, 2.31, 2.34, 2.32, 2.42, 2.33, 2.3, 2.29, 2.39, 2.41, 2.49, 2.54, 2.54, 2.53, 2.53, 2.44, 2.38, 2.3, 2.33, 2.34, 2.33, 2.26, 2.23, 2.23, 2.22, 2.28, 2.36, 2.12, 2.02, 2.15, 2.18, 2.13, 2.09, 2.21, 2.24, 2.22, 2.19, 2.2, 2.26, 2.35, 2.31, 2.28, 2.15, 2.23, 2.24, 2.24, 2.36, 2.33, 2.39, 2.48, 2.49, 2.49, 2.65, 2.67, 2.63, 2.62, 2.61, 2.75, 2.7, 2.72, 2.65, 2.34, 2.55, 2.55, 2.54, 2.57, 2.41, 2.37, 2.36, 2.36, 2.31, 2.25, 2.36, 2.29, 2.26, 2.26, 2.13, 2.13, 2.29, 2.44, 2.29, 2.08, 2.13, 2.21, 2.34, 2.33, 2.26, 2.49, 2.61, 2.71, 2.73, 2.54, 2.77, 2.77, 2.82, 2.84, 2.87, 2.72, 2.66, 2.68, 2.7, 2.64, 2.53, 2.56, 2.53, 2.62, 2.51, 2.51, 2.46, 2.46, 2.29, 2.42, 2.43, 2.42, 2.31, 2.17, 2.18, 2.28, 2.28, 2.28, 2.34, 2.3, 2.26, 2.21, 2.27, 2.17, 2.11, 2.09, 1.75, 2.06, 2.09, 2.05, 2.06, 2.1, 2.17, 2.09, 2.05, 2.05, 2.03, 2.15, 2.01, 2.06, 2.07, 1.98, 1.89, 1.95, 1.91, 2.03, 1.96, 1.93, 1.94, 1.91, 1.9, 1.89, 1.89, 1.86, 1.93, 1.85, 1.85, 1.91, 1.95, 1.93, 2.04, 2.01, 1.98, 1.96, 1.94, 1.93, 1.96, 1.78, 1.79, 1.79, 1.75, 1.78, 1.83, 1.89, 1.76, 1.76, 1.74, 1.91, 1.96, 1.82, 1.94, 1.94, 1.89, 1.89, 1.73, 1.68, 1.76, 1.76, 1.7, 1.73, 1.8, 1.73, 1.7, 1.7, 1.65, 1.71, 1.69, 1.55, 1.5, 1.64, 1.83, 1.86, 1.74, 1.86, 1.76, 1.68, 1.59, 1.71, 1.78, 1.92, 1.9, 1.86, 1.81, 1.68, 1.8, 1.73, 1.63, 1.69, 1.78, 1.93, 1.9, 1.84, 1.74, 1.7, 1.61, 1.56, 1.6, 1.66, 1.77, 1.85, 1.83, 1.75, 1.7, 1.79, 1.78, 1.79, 1.7, 1.59, 1.58, 1.84, 1.68, 1.8, 1.68, 1.68, 1.72, 1.77, 1.67, 1.64, 1.43, 1.55, 1.51, 1.49, 1.64, 1.61, 1.64, 1.53, 1.42, 1.67, 1.76, 1.69, 1.71, 1.76, 1.78, 1.88, 1.79, 1.75, 1.74, 1.76, 1.79, 1.79, 1.71, 1.66, 1.69, 1.75, 1.77, 1.85, 1.83, 1.77, 1.81, 1.83, 1.95, 2.07, 2.23, 2.26, 2.15, 2.18, 2.19, 2.05, 2.19, 2.23, 2.32, 2.45, 2.43, 2.35, 2.39, 2.57, 2.54, 2.52, 2.52, 2.46, 2.3, 2.22, 2.15, 2.32, 1.8, 2.35, 2.21, 2.13, 1.93, 2.18, 2.19, 2.06, 1.65, 1.56, 1.33, 1.49, 1.74, 1.93, 1.9, 1.83, 1.74, 1.66, 1.6, 1.41, 1.92, 1.86, 2.01, 1.49, 2.25, 2.31, 2.14, 2.02, 2.23, 2.16, 2.3, 2.57, 2.95, 2.99, 2.91, 3.14, 3.07, 3.14, 3.06, 3.03, 3.03, 2.88, 2.63, 2.69, 2.67, 2.63, 2.74, 2.75, 2.81, 2.82, 2.62, 2.55, 2.37, 2.19, 2.22, 2.23, 2.47, 2.47, 2.89, 2.89, 2.75, 2.46, 2.48, 2.39, 2.36, 2.45, 2.45, 2.54, 2.69, 2.63, 2.73, 2.7, 2.73, 2.68, 2.76, 2.76, 2.68, 2.39, 2.4, 2.36, 2.6, 2.77, 2.76, 2.81, 2.77, 2.71, 2.89, 2.82, 2.82, 2.86, 2.65, 2.57, 2.49, 2.45, 2.63, 2.73, 2.77, 2.76, 2.68, 2.88, 3.24, 3.01, 2.99, 3.49, 3.4, 3.35, 3.76, 6.5, 6.12, 11.32, 23.86, 8.56, 4.96, 3.16, 2.94, 2.8, 2.72, 2.66, 2.7, 2.87, 2.86, 2.79, 2.72, 2.67, 2.62, 2.62, 2.7, 2.65, 2.58, 2.5, 2.6, 2.45, 2.53, 2.55, 2.56, 2.56, 2.52, 2.52, 2.58, 2.55, 2.52, 2.52, 2.43, 2.44, 2.43, 2.47, 2.48, 2.5, 2.57, 2.65, 2.62, 2.63, 2.75, 2.76, 2.72, 2.77, 2.79, 2.73, 2.91, 2.98, 2.91, 2.86, 2.96, 3.0, 2.99, 2.9, 2.9, 2.93, 2.91, 2.91, 2.95, 2.95, 2.99, 2.96, 2.88, 2.86, 2.84, 2.78, 2.87, 2.91, 2.85, 2.91, 3.02, 3.09, 3.01, 3.01, 2.98, 3.11, 3.13, 3.13, 3.23, 3.36, 3.31, 3.25, 3.24, 3.23, 3.15, 3.21, 3.36, 3.3, 3.4, 3.62, 3.75, 3.79, 3.76, 3.67, 3.68, 3.66, 3.56, 3.71, 3.7, 3.78, 3.8, 3.68, 3.7, 3.75, 3.82, 3.94, 4.02, 4.11, 4.09, 4.15, 4.1, 4.03, 3.94, 4.02, 4.06, 4.2, 4.27, 4.21, 4.24, 4.12, 4.07, 4.1, 3.95, 3.93, 3.92, 3.86, 3.83, 3.94, 3.93, 3.95, 4.03, 4.07, 4.35, 4.25, 4.33, 4.45, 4.65, 4.77, 4.71, 4.66, 4.97, 5.13, 5.21, 5.39, 5.66, 5.52, 5.32, 5.25, 4.96, 4.92, 4.94, 5.1, 5.53, 5.94, 5.73, 5.58, 5.61, 5.8, 6.37, 6.0, 5.71, 5.46, 5.46, 5.34, 5.56, 5.92, 5.44, 5.01, 4.81, 4.87, 4.94, 5.1, 5.72, 5.59, 5.91, 5.68, 5.49, 5.22, 5.33, 5.59, 5.73, 5.51, 5.53, 5.08, 4.56, 4.81, 4.97, 4.77, 5.11, 4.82, 4.95, 4.9, 4.83, 4.95, 4.93, 4.9, 4.52, 4.31, 4.08, 3.79, 3.66, 3.6, 3.79, 3.67, 3.65, 4.05, 3.71, 3.79, 3.67, 3.71, 3.91, 3.96, 3.95, 3.56, 3.45, 3.32, 3.4, 3.82, 3.82, 3.74, 3.73, 3.78, 3.94, 3.83, 4.16, 4.16, 4.62, 4.78, 4.37, 4.55, 4.89, 4.45, 4.11, 4.2, 4.24, 4.43, 4.43, 5.69, 5.56, 5.45, 6.7, 5.84, 5.34, 4.44, 4.3, 4.13, 4.03, 4.04, 4.05, 4.31, 4.39, 4.57, 4.61, 4.48, 4.59, 4.78, 4.63, 4.46, 4.36, 4.65, 4.63, 4.74, 4.93, 4.61, 4.55, 4.65, 4.79, 4.59, 4.46, 4.68, 4.8, 4.87, 4.77, 5.0, 5.26, 5.19, 5.51, 5.52, 5.32, 5.32, 5.46, 5.43, 5.72, 5.95, 6.29, 6.05, 6.38, 6.35, 6.59, 6.68, 6.94, 7.48, 7.44, 7.12, 6.88, 6.59, 6.42, 6.89, 6.91, 6.97, 6.84, 7.3, 7.84, 8.3, 8.42, 8.35, 8.06, 6.78, 7.53, 7.25, 7.75, 8.07, 8.26, 8.53, 8.21, 7.97, 8.16, 8.87, 9.44, 9.19, 8.3, 8.46, 8.47, 8.9, 8.34, 9.08, 9.28, 9.43, 8.16, 8.78, 9.0, 7.68, 7.72, 7.88, 7.37, 6.6, 6.76, 6.54, 5.8, 6.09, 6.66, 6.69, 6.54, 5.75, 5.72, 5.65, 5.83, 6.4, 6.82, 6.81, 6.68, 6.9, 6.6, 7.65, 7.35, 7.58, 7.99, 8.25, 8.52, 9.46, 8.65, 8.75, 8.33, 8.2, 8.01, 7.81, 8.4, 8.3, 7.76, 7.87, 7.86, 8.53, 8.73, 8.62, 9.28, 9.51, 9.42, 9.14, 9.85, 9.75, 9.27, 9.47, 9.48, 9.24, 9.1, 8.93, 9.38, 9.18, 8.52, 8.12, 8.27, 8.31, 8.2, 8.49, 8.7, 8.6, 8.11, 7.96, 8.01, 7.99, 7.76, 6.75, 6.75, 6.83, 6.59, 6.57, 6.4, 5.64, 5.4, 5.84, 6.91, 6.25, 6.2, 6.6, 6.25, 6.1, 6.08, 6.16, 5.63, 5.1, 4.45, 4.81, 5.17, 5.28, 5.3, 5.02, 5.02, 4.57, 4.58, 4.65, 4.0, 4.62, 4.0, 3.46, 4.8, 4.8, 6.24, 5.9, 5.88, 6.2, 6.1, 6.23, 6.27, 6.57, 6.57, 6.0, 6.03, 7.0, 6.33, 4.92, 4.15, 4.58, 4.49, 4.79, 4.98, 6.73, 7.2, 6.54, 6.8, 6.63, 6.08, 5.28, 6.13, 7.1, 7.15, 4.88, 4.06, 3.78, 3.52, 3.64, 3.75, 3.78, 3.43, 3.65, 3.32, 3.41, 3.47, 3.43, 3.43, 3.2, 2.91, 3.15, 3.43, 3.35, 3.09, 2.72, 2.83, 2.82, 2.65, 2.65, 2.67, 2.4, 2.17, 2.35, 2.4, 2.4, 2.37, 2.42, 2.42, 2.45, 2.48, 2.28, 2.12, 2.07, 2.17, 2.36, 2.55, 2.5, 2.59, 2.67, 2.66, 2.46, 2.52, 2.5, 2.5, 2.4, 2.4, 2.65, 2.45, 2.45, 2.42, 2.23, 1.93, 2.03, 2.08, 2.04, 2.04, 2.02, 1.94, 1.95, 2.1, 2.09, 2.13, 2.17, 2.18, 2.15, 2.19, 2.22, 2.04, 1.87, 2.21, 2.23, 2.2, 2.19, 2.2, 2.19, 2.21, 2.19, 2.17, 2.27, 2.24, 2.12, 2.01, 1.96, 1.85, 2.12, 2.22, 2.12, 2.07, 1.98, 2.25, 2.28, 2.25, 2.3, 2.37, 2.3, 2.22, 2.25, 2.23, 1.88, 2.11, 2.1, 1.77, 1.74, 1.92, 1.95, 2.13, 2.1, 1.85, 1.9, 2.0, 2.05, 2.18, 2.13, 2.38, 2.24, 2.27, 2.22, 2.62, 2.68, 2.71, 2.4, 2.48, 2.48, 2.65, 2.5, 2.49, 2.55, 2.57, 2.55, 2.5, 2.5, 2.46, 2.52, 2.51, 2.61, 2.61, 2.68, 2.66], \"y0\": \" \", \"yaxis\": \"y\"}],\n",
              "                        {\"autosize\": false, \"boxmode\": \"group\", \"height\": 600, \"legend\": {\"tracegroupgap\": 0}, \"margin\": {\"t\": 60}, \"template\": {\"data\": {\"bar\": [{\"error_x\": {\"color\": \"#2a3f5f\"}, \"error_y\": {\"color\": \"#2a3f5f\"}, \"marker\": {\"line\": {\"color\": \"#E5ECF6\", \"width\": 0.5}}, \"type\": \"bar\"}], \"barpolar\": [{\"marker\": {\"line\": {\"color\": \"#E5ECF6\", \"width\": 0.5}}, \"type\": \"barpolar\"}], \"carpet\": [{\"aaxis\": {\"endlinecolor\": \"#2a3f5f\", \"gridcolor\": \"white\", \"linecolor\": \"white\", \"minorgridcolor\": \"white\", \"startlinecolor\": \"#2a3f5f\"}, \"baxis\": {\"endlinecolor\": \"#2a3f5f\", \"gridcolor\": \"white\", \"linecolor\": \"white\", \"minorgridcolor\": \"white\", \"startlinecolor\": \"#2a3f5f\"}, \"type\": \"carpet\"}], \"choropleth\": [{\"colorbar\": {\"outlinewidth\": 0, \"ticks\": \"\"}, \"type\": \"choropleth\"}], \"contour\": [{\"colorbar\": {\"outlinewidth\": 0, \"ticks\": \"\"}, \"colorscale\": [[0.0, \"#0d0887\"], [0.1111111111111111, \"#46039f\"], [0.2222222222222222, \"#7201a8\"], [0.3333333333333333, \"#9c179e\"], [0.4444444444444444, \"#bd3786\"], [0.5555555555555556, \"#d8576b\"], [0.6666666666666666, \"#ed7953\"], [0.7777777777777778, \"#fb9f3a\"], [0.8888888888888888, \"#fdca26\"], [1.0, \"#f0f921\"]], \"type\": \"contour\"}], \"contourcarpet\": [{\"colorbar\": {\"outlinewidth\": 0, \"ticks\": \"\"}, \"type\": \"contourcarpet\"}], \"heatmap\": [{\"colorbar\": {\"outlinewidth\": 0, \"ticks\": \"\"}, \"colorscale\": [[0.0, \"#0d0887\"], [0.1111111111111111, \"#46039f\"], [0.2222222222222222, \"#7201a8\"], [0.3333333333333333, \"#9c179e\"], [0.4444444444444444, \"#bd3786\"], [0.5555555555555556, \"#d8576b\"], [0.6666666666666666, \"#ed7953\"], [0.7777777777777778, \"#fb9f3a\"], [0.8888888888888888, \"#fdca26\"], [1.0, \"#f0f921\"]], \"type\": \"heatmap\"}], \"heatmapgl\": [{\"colorbar\": {\"outlinewidth\": 0, \"ticks\": \"\"}, \"colorscale\": [[0.0, \"#0d0887\"], [0.1111111111111111, \"#46039f\"], [0.2222222222222222, \"#7201a8\"], [0.3333333333333333, \"#9c179e\"], [0.4444444444444444, \"#bd3786\"], [0.5555555555555556, \"#d8576b\"], [0.6666666666666666, \"#ed7953\"], [0.7777777777777778, \"#fb9f3a\"], [0.8888888888888888, \"#fdca26\"], [1.0, \"#f0f921\"]], \"type\": \"heatmapgl\"}], \"histogram\": [{\"marker\": {\"colorbar\": {\"outlinewidth\": 0, \"ticks\": \"\"}}, \"type\": \"histogram\"}], \"histogram2d\": [{\"colorbar\": {\"outlinewidth\": 0, \"ticks\": \"\"}, \"colorscale\": [[0.0, \"#0d0887\"], [0.1111111111111111, \"#46039f\"], [0.2222222222222222, \"#7201a8\"], [0.3333333333333333, \"#9c179e\"], [0.4444444444444444, \"#bd3786\"], [0.5555555555555556, \"#d8576b\"], [0.6666666666666666, \"#ed7953\"], [0.7777777777777778, \"#fb9f3a\"], [0.8888888888888888, \"#fdca26\"], [1.0, \"#f0f921\"]], \"type\": \"histogram2d\"}], \"histogram2dcontour\": [{\"colorbar\": {\"outlinewidth\": 0, \"ticks\": \"\"}, \"colorscale\": [[0.0, \"#0d0887\"], [0.1111111111111111, \"#46039f\"], [0.2222222222222222, \"#7201a8\"], [0.3333333333333333, \"#9c179e\"], [0.4444444444444444, \"#bd3786\"], [0.5555555555555556, \"#d8576b\"], [0.6666666666666666, \"#ed7953\"], [0.7777777777777778, \"#fb9f3a\"], [0.8888888888888888, \"#fdca26\"], [1.0, \"#f0f921\"]], \"type\": \"histogram2dcontour\"}], \"mesh3d\": [{\"colorbar\": {\"outlinewidth\": 0, \"ticks\": \"\"}, \"type\": \"mesh3d\"}], \"parcoords\": [{\"line\": {\"colorbar\": {\"outlinewidth\": 0, \"ticks\": \"\"}}, \"type\": \"parcoords\"}], \"scatter\": [{\"marker\": {\"colorbar\": {\"outlinewidth\": 0, \"ticks\": \"\"}}, \"type\": \"scatter\"}], \"scatter3d\": [{\"line\": {\"colorbar\": {\"outlinewidth\": 0, \"ticks\": \"\"}}, \"marker\": {\"colorbar\": {\"outlinewidth\": 0, \"ticks\": \"\"}}, \"type\": \"scatter3d\"}], \"scattercarpet\": [{\"marker\": {\"colorbar\": {\"outlinewidth\": 0, \"ticks\": \"\"}}, \"type\": \"scattercarpet\"}], \"scattergeo\": [{\"marker\": {\"colorbar\": {\"outlinewidth\": 0, \"ticks\": \"\"}}, \"type\": \"scattergeo\"}], \"scattergl\": [{\"marker\": {\"colorbar\": {\"outlinewidth\": 0, \"ticks\": \"\"}}, \"type\": \"scattergl\"}], \"scattermapbox\": [{\"marker\": {\"colorbar\": {\"outlinewidth\": 0, \"ticks\": \"\"}}, \"type\": \"scattermapbox\"}], \"scatterpolar\": [{\"marker\": {\"colorbar\": {\"outlinewidth\": 0, \"ticks\": \"\"}}, \"type\": \"scatterpolar\"}], \"scatterpolargl\": [{\"marker\": {\"colorbar\": {\"outlinewidth\": 0, \"ticks\": \"\"}}, \"type\": \"scatterpolargl\"}], \"scatterternary\": [{\"marker\": {\"colorbar\": {\"outlinewidth\": 0, \"ticks\": \"\"}}, \"type\": \"scatterternary\"}], \"surface\": [{\"colorbar\": {\"outlinewidth\": 0, \"ticks\": \"\"}, \"colorscale\": [[0.0, \"#0d0887\"], [0.1111111111111111, \"#46039f\"], [0.2222222222222222, \"#7201a8\"], [0.3333333333333333, \"#9c179e\"], [0.4444444444444444, \"#bd3786\"], [0.5555555555555556, \"#d8576b\"], [0.6666666666666666, \"#ed7953\"], [0.7777777777777778, \"#fb9f3a\"], [0.8888888888888888, \"#fdca26\"], [1.0, \"#f0f921\"]], \"type\": \"surface\"}], \"table\": [{\"cells\": {\"fill\": {\"color\": \"#EBF0F8\"}, \"line\": {\"color\": \"white\"}}, \"header\": {\"fill\": {\"color\": \"#C8D4E3\"}, \"line\": {\"color\": \"white\"}}, \"type\": \"table\"}]}, \"layout\": {\"annotationdefaults\": {\"arrowcolor\": \"#2a3f5f\", \"arrowhead\": 0, \"arrowwidth\": 1}, \"colorscale\": {\"diverging\": [[0, \"#8e0152\"], [0.1, \"#c51b7d\"], [0.2, \"#de77ae\"], [0.3, \"#f1b6da\"], [0.4, \"#fde0ef\"], [0.5, \"#f7f7f7\"], [0.6, \"#e6f5d0\"], [0.7, \"#b8e186\"], [0.8, \"#7fbc41\"], [0.9, \"#4d9221\"], [1, \"#276419\"]], \"sequential\": [[0.0, \"#0d0887\"], [0.1111111111111111, \"#46039f\"], [0.2222222222222222, \"#7201a8\"], [0.3333333333333333, \"#9c179e\"], [0.4444444444444444, \"#bd3786\"], [0.5555555555555556, \"#d8576b\"], [0.6666666666666666, \"#ed7953\"], [0.7777777777777778, \"#fb9f3a\"], [0.8888888888888888, \"#fdca26\"], [1.0, \"#f0f921\"]], \"sequentialminus\": [[0.0, \"#0d0887\"], [0.1111111111111111, \"#46039f\"], [0.2222222222222222, \"#7201a8\"], [0.3333333333333333, \"#9c179e\"], [0.4444444444444444, \"#bd3786\"], [0.5555555555555556, \"#d8576b\"], [0.6666666666666666, \"#ed7953\"], [0.7777777777777778, \"#fb9f3a\"], [0.8888888888888888, \"#fdca26\"], [1.0, \"#f0f921\"]]}, \"colorway\": [\"#636efa\", \"#EF553B\", \"#00cc96\", \"#ab63fa\", \"#FFA15A\", \"#19d3f3\", \"#FF6692\", \"#B6E880\", \"#FF97FF\", \"#FECB52\"], \"font\": {\"color\": \"#2a3f5f\"}, \"geo\": {\"bgcolor\": \"white\", \"lakecolor\": \"white\", \"landcolor\": \"#E5ECF6\", \"showlakes\": true, \"showland\": true, \"subunitcolor\": \"white\"}, \"hoverlabel\": {\"align\": \"left\"}, \"hovermode\": \"closest\", \"mapbox\": {\"style\": \"light\"}, \"paper_bgcolor\": \"white\", \"plot_bgcolor\": \"#E5ECF6\", \"polar\": {\"angularaxis\": {\"gridcolor\": \"white\", \"linecolor\": \"white\", \"ticks\": \"\"}, \"bgcolor\": \"#E5ECF6\", \"radialaxis\": {\"gridcolor\": \"white\", \"linecolor\": \"white\", \"ticks\": \"\"}}, \"scene\": {\"xaxis\": {\"backgroundcolor\": \"#E5ECF6\", \"gridcolor\": \"white\", \"gridwidth\": 2, \"linecolor\": \"white\", \"showbackground\": true, \"ticks\": \"\", \"zerolinecolor\": \"white\"}, \"yaxis\": {\"backgroundcolor\": \"#E5ECF6\", \"gridcolor\": \"white\", \"gridwidth\": 2, \"linecolor\": \"white\", \"showbackground\": true, \"ticks\": \"\", \"zerolinecolor\": \"white\"}, \"zaxis\": {\"backgroundcolor\": \"#E5ECF6\", \"gridcolor\": \"white\", \"gridwidth\": 2, \"linecolor\": \"white\", \"showbackground\": true, \"ticks\": \"\", \"zerolinecolor\": \"white\"}}, \"shapedefaults\": {\"line\": {\"color\": \"#2a3f5f\"}}, \"ternary\": {\"aaxis\": {\"gridcolor\": \"white\", \"linecolor\": \"white\", \"ticks\": \"\"}, \"baxis\": {\"gridcolor\": \"white\", \"linecolor\": \"white\", \"ticks\": \"\"}, \"bgcolor\": \"#E5ECF6\", \"caxis\": {\"gridcolor\": \"white\", \"linecolor\": \"white\", \"ticks\": \"\"}}, \"title\": {\"x\": 0.05}, \"xaxis\": {\"automargin\": true, \"gridcolor\": \"white\", \"linecolor\": \"white\", \"ticks\": \"\", \"zerolinecolor\": \"white\", \"zerolinewidth\": 2}, \"yaxis\": {\"automargin\": true, \"gridcolor\": \"white\", \"linecolor\": \"white\", \"ticks\": \"\", \"zerolinecolor\": \"white\", \"zerolinewidth\": 2}}}, \"width\": 1000, \"xaxis\": {\"anchor\": \"y\", \"domain\": [0.0, 0.98]}, \"yaxis\": {\"anchor\": \"x\", \"domain\": [0.0, 1.0], \"title\": {\"text\": \"HHD\"}}},\n",
              "                        {\"responsive\": true}\n",
              "                    ).then(function(){\n",
              "                            \n",
              "var gd = document.getElementById('2b6fc708-054c-4477-9b08-d4825cece7b3');\n",
              "var x = new MutationObserver(function (mutations, observer) {{\n",
              "        var display = window.getComputedStyle(gd).display;\n",
              "        if (!display || display === 'none') {{\n",
              "            console.log([gd, 'removed!']);\n",
              "            Plotly.purge(gd);\n",
              "            observer.disconnect();\n",
              "        }}\n",
              "}});\n",
              "\n",
              "// Listen for the removal of the full notebook cells\n",
              "var notebookContainer = gd.closest('#notebook-container');\n",
              "if (notebookContainer) {{\n",
              "    x.observe(notebookContainer, {childList: true});\n",
              "}}\n",
              "\n",
              "// Listen for the clearing of the current output cell\n",
              "var outputEl = gd.closest('.output');\n",
              "if (outputEl) {{\n",
              "    x.observe(outputEl, {childList: true});\n",
              "}}\n",
              "\n",
              "                        })\n",
              "                };\n",
              "                \n",
              "            </script>\n",
              "        </div>\n",
              "</body>\n",
              "</html>"
            ]
          },
          "metadata": {}
        }
      ]
    },
    {
      "cell_type": "code",
      "source": [],
      "metadata": {
        "id": "8QjYBX6_eDvZ"
      },
      "execution_count": null,
      "outputs": []
    },
    {
      "cell_type": "code",
      "source": [],
      "metadata": {
        "id": "YY2F-Q2beDzD"
      },
      "execution_count": null,
      "outputs": []
    },
    {
      "cell_type": "code",
      "source": [],
      "metadata": {
        "id": "3DvXBi2SeD27"
      },
      "execution_count": null,
      "outputs": []
    },
    {
      "cell_type": "code",
      "source": [],
      "metadata": {
        "id": "o2DMkqBveD6U"
      },
      "execution_count": null,
      "outputs": []
    },
    {
      "cell_type": "code",
      "source": [],
      "metadata": {
        "id": "gsSXveyFeD98"
      },
      "execution_count": null,
      "outputs": []
    },
    {
      "cell_type": "code",
      "source": [],
      "metadata": {
        "id": "d0Oq2Qpyb5jI"
      },
      "execution_count": null,
      "outputs": []
    },
    {
      "cell_type": "code",
      "source": [],
      "metadata": {
        "id": "WhFZwmcab5mg"
      },
      "execution_count": null,
      "outputs": []
    },
    {
      "cell_type": "code",
      "source": [],
      "metadata": {
        "id": "kqgChP4vb5pb"
      },
      "execution_count": null,
      "outputs": []
    }
  ]
}