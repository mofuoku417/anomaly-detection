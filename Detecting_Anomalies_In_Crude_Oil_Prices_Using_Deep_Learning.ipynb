{
  "nbformat": 4,
  "nbformat_minor": 0,
  "metadata": {
    "colab": {
      "provenance": [],
      "authorship_tag": "ABX9TyMOthjZ8WCGlVjQBW38xghw",
      "include_colab_link": true
    },
    "kernelspec": {
      "name": "python3",
      "display_name": "Python 3"
    },
    "language_info": {
      "name": "python"
    }
  },
  "cells": [
    {
      "cell_type": "markdown",
      "metadata": {
        "id": "view-in-github",
        "colab_type": "text"
      },
      "source": [
        "<a href=\"https://colab.research.google.com/github/mofuoku417/anomaly-detection/blob/main/Detecting_Anomalies_In_Crude_Oil_Prices_Using_Deep_Learning.ipynb\" target=\"_parent\"><img src=\"https://colab.research.google.com/assets/colab-badge.svg\" alt=\"Open In Colab\"/></a>"
      ]
    },
    {
      "cell_type": "code",
      "execution_count": null,
      "metadata": {
        "id": "V5a85dPFq6je"
      },
      "outputs": [],
      "source": []
    },
    {
      "cell_type": "code",
      "source": [
        "from pandas import read_csv\n",
        "import math \n",
        "import numpy as np # Python's fundamental package for scientific computing\n",
        "import pandas as pd # For data analysis and manipulation\n",
        "from datetime import date, timedelta # Date Operations\n",
        "import matplotlib.pyplot as plt # To aid in visualizing\n",
        "%matplotlib inline\n",
        "import seaborn as sns\n",
        "import matplotlib.dates as mdates # Date formatting"
      ],
      "metadata": {
        "id": "1kJxwa7ut6vH"
      },
      "execution_count": 8,
      "outputs": []
    },
    {
      "cell_type": "markdown",
      "source": [
        "#####Loading the dataset"
      ],
      "metadata": {
        "id": "_oTDiZURROnS"
      }
    },
    {
      "cell_type": "code",
      "source": [
        "#Load dataset\n",
        "path = 'https://raw.githubusercontent.com/mofuoku417/anomaly-detection/main/Data/crude_oil.csv'\n",
        "df = read_csv(path, parse_dates=True,)"
      ],
      "metadata": {
        "id": "ymjLVSmFORcB"
      },
      "execution_count": 36,
      "outputs": []
    },
    {
      "cell_type": "markdown",
      "source": [
        "####Inspecting the downloaded data:"
      ],
      "metadata": {
        "id": "HHwCHYxyQCj2"
      }
    },
    {
      "cell_type": "code",
      "source": [
        "print(f\"Downloaded {len(df)} rows of data.\")\n",
        "df"
      ],
      "metadata": {
        "colab": {
          "base_uri": "https://localhost:8080/",
          "height": 464
        },
        "id": "Y9-7Gbk7QLSD",
        "outputId": "fe13a32f-66d8-41d4-bb17-9425a1c37e72"
      },
      "execution_count": 37,
      "outputs": [
        {
          "output_type": "stream",
          "name": "stdout",
          "text": [
            "Downloaded 23024 rows of data.\n"
          ]
        },
        {
          "output_type": "execute_result",
          "data": {
            "text/plain": [
              "            Symbol     Date     Open     High      Low    Close  Volume  \\\n",
              "0        Brent Oil   1/4/00  23.9000  24.7000  23.8900  24.3900   32509   \n",
              "1        Brent Oil   1/5/00  24.2500  24.3700  23.7000  23.7300   30310   \n",
              "2        Brent Oil   1/6/00  23.5500  24.2200  23.3500  23.6200   44662   \n",
              "3        Brent Oil   1/7/00  23.5700  23.9800  23.0500  23.0900   34826   \n",
              "4        Brent Oil  1/10/00  23.0400  23.7800  23.0400  23.7300   26388   \n",
              "...            ...      ...      ...      ...      ...      ...     ...   \n",
              "23019  Heating Oil  6/13/22   4.3612   4.3762   4.1949   4.2834   46406   \n",
              "23020  Heating Oil  6/14/22   4.2749   4.4570   4.2488   4.3940   36652   \n",
              "23021  Heating Oil  6/15/22   4.3816   4.6070   4.3557   4.5470   36908   \n",
              "23022  Heating Oil  6/16/22   4.5320   4.5825   4.4124   4.5713   28269   \n",
              "23023  Heating Oil  6/17/22   4.5719   4.6444   4.2936   4.3398       0   \n",
              "\n",
              "      Currency  \n",
              "0          USD  \n",
              "1          USD  \n",
              "2          USD  \n",
              "3          USD  \n",
              "4          USD  \n",
              "...        ...  \n",
              "23019      USD  \n",
              "23020      USD  \n",
              "23021      USD  \n",
              "23022      USD  \n",
              "23023      USD  \n",
              "\n",
              "[23024 rows x 8 columns]"
            ],
            "text/html": [
              "\n",
              "  <div id=\"df-2fc1f61f-7fe9-400f-b0ef-1f3ee6905735\">\n",
              "    <div class=\"colab-df-container\">\n",
              "      <div>\n",
              "<style scoped>\n",
              "    .dataframe tbody tr th:only-of-type {\n",
              "        vertical-align: middle;\n",
              "    }\n",
              "\n",
              "    .dataframe tbody tr th {\n",
              "        vertical-align: top;\n",
              "    }\n",
              "\n",
              "    .dataframe thead th {\n",
              "        text-align: right;\n",
              "    }\n",
              "</style>\n",
              "<table border=\"1\" class=\"dataframe\">\n",
              "  <thead>\n",
              "    <tr style=\"text-align: right;\">\n",
              "      <th></th>\n",
              "      <th>Symbol</th>\n",
              "      <th>Date</th>\n",
              "      <th>Open</th>\n",
              "      <th>High</th>\n",
              "      <th>Low</th>\n",
              "      <th>Close</th>\n",
              "      <th>Volume</th>\n",
              "      <th>Currency</th>\n",
              "    </tr>\n",
              "  </thead>\n",
              "  <tbody>\n",
              "    <tr>\n",
              "      <th>0</th>\n",
              "      <td>Brent Oil</td>\n",
              "      <td>1/4/00</td>\n",
              "      <td>23.9000</td>\n",
              "      <td>24.7000</td>\n",
              "      <td>23.8900</td>\n",
              "      <td>24.3900</td>\n",
              "      <td>32509</td>\n",
              "      <td>USD</td>\n",
              "    </tr>\n",
              "    <tr>\n",
              "      <th>1</th>\n",
              "      <td>Brent Oil</td>\n",
              "      <td>1/5/00</td>\n",
              "      <td>24.2500</td>\n",
              "      <td>24.3700</td>\n",
              "      <td>23.7000</td>\n",
              "      <td>23.7300</td>\n",
              "      <td>30310</td>\n",
              "      <td>USD</td>\n",
              "    </tr>\n",
              "    <tr>\n",
              "      <th>2</th>\n",
              "      <td>Brent Oil</td>\n",
              "      <td>1/6/00</td>\n",
              "      <td>23.5500</td>\n",
              "      <td>24.2200</td>\n",
              "      <td>23.3500</td>\n",
              "      <td>23.6200</td>\n",
              "      <td>44662</td>\n",
              "      <td>USD</td>\n",
              "    </tr>\n",
              "    <tr>\n",
              "      <th>3</th>\n",
              "      <td>Brent Oil</td>\n",
              "      <td>1/7/00</td>\n",
              "      <td>23.5700</td>\n",
              "      <td>23.9800</td>\n",
              "      <td>23.0500</td>\n",
              "      <td>23.0900</td>\n",
              "      <td>34826</td>\n",
              "      <td>USD</td>\n",
              "    </tr>\n",
              "    <tr>\n",
              "      <th>4</th>\n",
              "      <td>Brent Oil</td>\n",
              "      <td>1/10/00</td>\n",
              "      <td>23.0400</td>\n",
              "      <td>23.7800</td>\n",
              "      <td>23.0400</td>\n",
              "      <td>23.7300</td>\n",
              "      <td>26388</td>\n",
              "      <td>USD</td>\n",
              "    </tr>\n",
              "    <tr>\n",
              "      <th>...</th>\n",
              "      <td>...</td>\n",
              "      <td>...</td>\n",
              "      <td>...</td>\n",
              "      <td>...</td>\n",
              "      <td>...</td>\n",
              "      <td>...</td>\n",
              "      <td>...</td>\n",
              "      <td>...</td>\n",
              "    </tr>\n",
              "    <tr>\n",
              "      <th>23019</th>\n",
              "      <td>Heating Oil</td>\n",
              "      <td>6/13/22</td>\n",
              "      <td>4.3612</td>\n",
              "      <td>4.3762</td>\n",
              "      <td>4.1949</td>\n",
              "      <td>4.2834</td>\n",
              "      <td>46406</td>\n",
              "      <td>USD</td>\n",
              "    </tr>\n",
              "    <tr>\n",
              "      <th>23020</th>\n",
              "      <td>Heating Oil</td>\n",
              "      <td>6/14/22</td>\n",
              "      <td>4.2749</td>\n",
              "      <td>4.4570</td>\n",
              "      <td>4.2488</td>\n",
              "      <td>4.3940</td>\n",
              "      <td>36652</td>\n",
              "      <td>USD</td>\n",
              "    </tr>\n",
              "    <tr>\n",
              "      <th>23021</th>\n",
              "      <td>Heating Oil</td>\n",
              "      <td>6/15/22</td>\n",
              "      <td>4.3816</td>\n",
              "      <td>4.6070</td>\n",
              "      <td>4.3557</td>\n",
              "      <td>4.5470</td>\n",
              "      <td>36908</td>\n",
              "      <td>USD</td>\n",
              "    </tr>\n",
              "    <tr>\n",
              "      <th>23022</th>\n",
              "      <td>Heating Oil</td>\n",
              "      <td>6/16/22</td>\n",
              "      <td>4.5320</td>\n",
              "      <td>4.5825</td>\n",
              "      <td>4.4124</td>\n",
              "      <td>4.5713</td>\n",
              "      <td>28269</td>\n",
              "      <td>USD</td>\n",
              "    </tr>\n",
              "    <tr>\n",
              "      <th>23023</th>\n",
              "      <td>Heating Oil</td>\n",
              "      <td>6/17/22</td>\n",
              "      <td>4.5719</td>\n",
              "      <td>4.6444</td>\n",
              "      <td>4.2936</td>\n",
              "      <td>4.3398</td>\n",
              "      <td>0</td>\n",
              "      <td>USD</td>\n",
              "    </tr>\n",
              "  </tbody>\n",
              "</table>\n",
              "<p>23024 rows × 8 columns</p>\n",
              "</div>\n",
              "      <button class=\"colab-df-convert\" onclick=\"convertToInteractive('df-2fc1f61f-7fe9-400f-b0ef-1f3ee6905735')\"\n",
              "              title=\"Convert this dataframe to an interactive table.\"\n",
              "              style=\"display:none;\">\n",
              "        \n",
              "  <svg xmlns=\"http://www.w3.org/2000/svg\" height=\"24px\"viewBox=\"0 0 24 24\"\n",
              "       width=\"24px\">\n",
              "    <path d=\"M0 0h24v24H0V0z\" fill=\"none\"/>\n",
              "    <path d=\"M18.56 5.44l.94 2.06.94-2.06 2.06-.94-2.06-.94-.94-2.06-.94 2.06-2.06.94zm-11 1L8.5 8.5l.94-2.06 2.06-.94-2.06-.94L8.5 2.5l-.94 2.06-2.06.94zm10 10l.94 2.06.94-2.06 2.06-.94-2.06-.94-.94-2.06-.94 2.06-2.06.94z\"/><path d=\"M17.41 7.96l-1.37-1.37c-.4-.4-.92-.59-1.43-.59-.52 0-1.04.2-1.43.59L10.3 9.45l-7.72 7.72c-.78.78-.78 2.05 0 2.83L4 21.41c.39.39.9.59 1.41.59.51 0 1.02-.2 1.41-.59l7.78-7.78 2.81-2.81c.8-.78.8-2.07 0-2.86zM5.41 20L4 18.59l7.72-7.72 1.47 1.35L5.41 20z\"/>\n",
              "  </svg>\n",
              "      </button>\n",
              "      \n",
              "  <style>\n",
              "    .colab-df-container {\n",
              "      display:flex;\n",
              "      flex-wrap:wrap;\n",
              "      gap: 12px;\n",
              "    }\n",
              "\n",
              "    .colab-df-convert {\n",
              "      background-color: #E8F0FE;\n",
              "      border: none;\n",
              "      border-radius: 50%;\n",
              "      cursor: pointer;\n",
              "      display: none;\n",
              "      fill: #1967D2;\n",
              "      height: 32px;\n",
              "      padding: 0 0 0 0;\n",
              "      width: 32px;\n",
              "    }\n",
              "\n",
              "    .colab-df-convert:hover {\n",
              "      background-color: #E2EBFA;\n",
              "      box-shadow: 0px 1px 2px rgba(60, 64, 67, 0.3), 0px 1px 3px 1px rgba(60, 64, 67, 0.15);\n",
              "      fill: #174EA6;\n",
              "    }\n",
              "\n",
              "    [theme=dark] .colab-df-convert {\n",
              "      background-color: #3B4455;\n",
              "      fill: #D2E3FC;\n",
              "    }\n",
              "\n",
              "    [theme=dark] .colab-df-convert:hover {\n",
              "      background-color: #434B5C;\n",
              "      box-shadow: 0px 1px 3px 1px rgba(0, 0, 0, 0.15);\n",
              "      filter: drop-shadow(0px 1px 2px rgba(0, 0, 0, 0.3));\n",
              "      fill: #FFFFFF;\n",
              "    }\n",
              "  </style>\n",
              "\n",
              "      <script>\n",
              "        const buttonEl =\n",
              "          document.querySelector('#df-2fc1f61f-7fe9-400f-b0ef-1f3ee6905735 button.colab-df-convert');\n",
              "        buttonEl.style.display =\n",
              "          google.colab.kernel.accessAllowed ? 'block' : 'none';\n",
              "\n",
              "        async function convertToInteractive(key) {\n",
              "          const element = document.querySelector('#df-2fc1f61f-7fe9-400f-b0ef-1f3ee6905735');\n",
              "          const dataTable =\n",
              "            await google.colab.kernel.invokeFunction('convertToInteractive',\n",
              "                                                     [key], {});\n",
              "          if (!dataTable) return;\n",
              "\n",
              "          const docLinkHtml = 'Like what you see? Visit the ' +\n",
              "            '<a target=\"_blank\" href=https://colab.research.google.com/notebooks/data_table.ipynb>data table notebook</a>'\n",
              "            + ' to learn more about interactive tables.';\n",
              "          element.innerHTML = '';\n",
              "          dataTable['output_type'] = 'display_data';\n",
              "          await google.colab.output.renderOutput(dataTable, element);\n",
              "          const docLink = document.createElement('div');\n",
              "          docLink.innerHTML = docLinkHtml;\n",
              "          element.appendChild(docLink);\n",
              "        }\n",
              "      </script>\n",
              "    </div>\n",
              "  </div>\n",
              "  "
            ]
          },
          "metadata": {},
          "execution_count": 37
        }
      ]
    },
    {
      "cell_type": "code",
      "source": [
        "#Checking the data types\n",
        "df.dtypes"
      ],
      "metadata": {
        "colab": {
          "base_uri": "https://localhost:8080/"
        },
        "id": "bwbFr3ZxUIK0",
        "outputId": "97304d26-6555-4df6-b470-be10416291ab"
      },
      "execution_count": 38,
      "outputs": [
        {
          "output_type": "execute_result",
          "data": {
            "text/plain": [
              "Symbol       object\n",
              "Date         object\n",
              "Open        float64\n",
              "High        float64\n",
              "Low         float64\n",
              "Close       float64\n",
              "Volume        int64\n",
              "Currency     object\n",
              "dtype: object"
            ]
          },
          "metadata": {},
          "execution_count": 38
        }
      ]
    },
    {
      "cell_type": "code",
      "source": [
        "df.head(5)"
      ],
      "metadata": {
        "colab": {
          "base_uri": "https://localhost:8080/",
          "height": 228
        },
        "id": "KR_GPUmyOUo-",
        "outputId": "c0cdde14-28ba-4aca-da32-79b7f13bbf63"
      },
      "execution_count": 39,
      "outputs": [
        {
          "output_type": "execute_result",
          "data": {
            "text/plain": [
              "      Symbol     Date   Open   High    Low  Close  Volume Currency\n",
              "0  Brent Oil   1/4/00  23.90  24.70  23.89  24.39   32509      USD\n",
              "1  Brent Oil   1/5/00  24.25  24.37  23.70  23.73   30310      USD\n",
              "2  Brent Oil   1/6/00  23.55  24.22  23.35  23.62   44662      USD\n",
              "3  Brent Oil   1/7/00  23.57  23.98  23.05  23.09   34826      USD\n",
              "4  Brent Oil  1/10/00  23.04  23.78  23.04  23.73   26388      USD"
            ],
            "text/html": [
              "\n",
              "  <div id=\"df-50740372-1d2a-43a7-bf65-0e853c7d36c3\">\n",
              "    <div class=\"colab-df-container\">\n",
              "      <div>\n",
              "<style scoped>\n",
              "    .dataframe tbody tr th:only-of-type {\n",
              "        vertical-align: middle;\n",
              "    }\n",
              "\n",
              "    .dataframe tbody tr th {\n",
              "        vertical-align: top;\n",
              "    }\n",
              "\n",
              "    .dataframe thead th {\n",
              "        text-align: right;\n",
              "    }\n",
              "</style>\n",
              "<table border=\"1\" class=\"dataframe\">\n",
              "  <thead>\n",
              "    <tr style=\"text-align: right;\">\n",
              "      <th></th>\n",
              "      <th>Symbol</th>\n",
              "      <th>Date</th>\n",
              "      <th>Open</th>\n",
              "      <th>High</th>\n",
              "      <th>Low</th>\n",
              "      <th>Close</th>\n",
              "      <th>Volume</th>\n",
              "      <th>Currency</th>\n",
              "    </tr>\n",
              "  </thead>\n",
              "  <tbody>\n",
              "    <tr>\n",
              "      <th>0</th>\n",
              "      <td>Brent Oil</td>\n",
              "      <td>1/4/00</td>\n",
              "      <td>23.90</td>\n",
              "      <td>24.70</td>\n",
              "      <td>23.89</td>\n",
              "      <td>24.39</td>\n",
              "      <td>32509</td>\n",
              "      <td>USD</td>\n",
              "    </tr>\n",
              "    <tr>\n",
              "      <th>1</th>\n",
              "      <td>Brent Oil</td>\n",
              "      <td>1/5/00</td>\n",
              "      <td>24.25</td>\n",
              "      <td>24.37</td>\n",
              "      <td>23.70</td>\n",
              "      <td>23.73</td>\n",
              "      <td>30310</td>\n",
              "      <td>USD</td>\n",
              "    </tr>\n",
              "    <tr>\n",
              "      <th>2</th>\n",
              "      <td>Brent Oil</td>\n",
              "      <td>1/6/00</td>\n",
              "      <td>23.55</td>\n",
              "      <td>24.22</td>\n",
              "      <td>23.35</td>\n",
              "      <td>23.62</td>\n",
              "      <td>44662</td>\n",
              "      <td>USD</td>\n",
              "    </tr>\n",
              "    <tr>\n",
              "      <th>3</th>\n",
              "      <td>Brent Oil</td>\n",
              "      <td>1/7/00</td>\n",
              "      <td>23.57</td>\n",
              "      <td>23.98</td>\n",
              "      <td>23.05</td>\n",
              "      <td>23.09</td>\n",
              "      <td>34826</td>\n",
              "      <td>USD</td>\n",
              "    </tr>\n",
              "    <tr>\n",
              "      <th>4</th>\n",
              "      <td>Brent Oil</td>\n",
              "      <td>1/10/00</td>\n",
              "      <td>23.04</td>\n",
              "      <td>23.78</td>\n",
              "      <td>23.04</td>\n",
              "      <td>23.73</td>\n",
              "      <td>26388</td>\n",
              "      <td>USD</td>\n",
              "    </tr>\n",
              "  </tbody>\n",
              "</table>\n",
              "</div>\n",
              "      <button class=\"colab-df-convert\" onclick=\"convertToInteractive('df-50740372-1d2a-43a7-bf65-0e853c7d36c3')\"\n",
              "              title=\"Convert this dataframe to an interactive table.\"\n",
              "              style=\"display:none;\">\n",
              "        \n",
              "  <svg xmlns=\"http://www.w3.org/2000/svg\" height=\"24px\"viewBox=\"0 0 24 24\"\n",
              "       width=\"24px\">\n",
              "    <path d=\"M0 0h24v24H0V0z\" fill=\"none\"/>\n",
              "    <path d=\"M18.56 5.44l.94 2.06.94-2.06 2.06-.94-2.06-.94-.94-2.06-.94 2.06-2.06.94zm-11 1L8.5 8.5l.94-2.06 2.06-.94-2.06-.94L8.5 2.5l-.94 2.06-2.06.94zm10 10l.94 2.06.94-2.06 2.06-.94-2.06-.94-.94-2.06-.94 2.06-2.06.94z\"/><path d=\"M17.41 7.96l-1.37-1.37c-.4-.4-.92-.59-1.43-.59-.52 0-1.04.2-1.43.59L10.3 9.45l-7.72 7.72c-.78.78-.78 2.05 0 2.83L4 21.41c.39.39.9.59 1.41.59.51 0 1.02-.2 1.41-.59l7.78-7.78 2.81-2.81c.8-.78.8-2.07 0-2.86zM5.41 20L4 18.59l7.72-7.72 1.47 1.35L5.41 20z\"/>\n",
              "  </svg>\n",
              "      </button>\n",
              "      \n",
              "  <style>\n",
              "    .colab-df-container {\n",
              "      display:flex;\n",
              "      flex-wrap:wrap;\n",
              "      gap: 12px;\n",
              "    }\n",
              "\n",
              "    .colab-df-convert {\n",
              "      background-color: #E8F0FE;\n",
              "      border: none;\n",
              "      border-radius: 50%;\n",
              "      cursor: pointer;\n",
              "      display: none;\n",
              "      fill: #1967D2;\n",
              "      height: 32px;\n",
              "      padding: 0 0 0 0;\n",
              "      width: 32px;\n",
              "    }\n",
              "\n",
              "    .colab-df-convert:hover {\n",
              "      background-color: #E2EBFA;\n",
              "      box-shadow: 0px 1px 2px rgba(60, 64, 67, 0.3), 0px 1px 3px 1px rgba(60, 64, 67, 0.15);\n",
              "      fill: #174EA6;\n",
              "    }\n",
              "\n",
              "    [theme=dark] .colab-df-convert {\n",
              "      background-color: #3B4455;\n",
              "      fill: #D2E3FC;\n",
              "    }\n",
              "\n",
              "    [theme=dark] .colab-df-convert:hover {\n",
              "      background-color: #434B5C;\n",
              "      box-shadow: 0px 1px 3px 1px rgba(0, 0, 0, 0.15);\n",
              "      filter: drop-shadow(0px 1px 2px rgba(0, 0, 0, 0.3));\n",
              "      fill: #FFFFFF;\n",
              "    }\n",
              "  </style>\n",
              "\n",
              "      <script>\n",
              "        const buttonEl =\n",
              "          document.querySelector('#df-50740372-1d2a-43a7-bf65-0e853c7d36c3 button.colab-df-convert');\n",
              "        buttonEl.style.display =\n",
              "          google.colab.kernel.accessAllowed ? 'block' : 'none';\n",
              "\n",
              "        async function convertToInteractive(key) {\n",
              "          const element = document.querySelector('#df-50740372-1d2a-43a7-bf65-0e853c7d36c3');\n",
              "          const dataTable =\n",
              "            await google.colab.kernel.invokeFunction('convertToInteractive',\n",
              "                                                     [key], {});\n",
              "          if (!dataTable) return;\n",
              "\n",
              "          const docLinkHtml = 'Like what you see? Visit the ' +\n",
              "            '<a target=\"_blank\" href=https://colab.research.google.com/notebooks/data_table.ipynb>data table notebook</a>'\n",
              "            + ' to learn more about interactive tables.';\n",
              "          element.innerHTML = '';\n",
              "          dataTable['output_type'] = 'display_data';\n",
              "          await google.colab.output.renderOutput(dataTable, element);\n",
              "          const docLink = document.createElement('div');\n",
              "          docLink.innerHTML = docLinkHtml;\n",
              "          element.appendChild(docLink);\n",
              "        }\n",
              "      </script>\n",
              "    </div>\n",
              "  </div>\n",
              "  "
            ]
          },
          "metadata": {},
          "execution_count": 39
        }
      ]
    },
    {
      "cell_type": "code",
      "source": [
        "df.tail(5)"
      ],
      "metadata": {
        "colab": {
          "base_uri": "https://localhost:8080/",
          "height": 228
        },
        "id": "xhXYpiPJOcw3",
        "outputId": "72c9ac18-2139-4f41-aac3-eef21c63567d"
      },
      "execution_count": 40,
      "outputs": [
        {
          "output_type": "execute_result",
          "data": {
            "text/plain": [
              "            Symbol     Date    Open    High     Low   Close  Volume Currency\n",
              "23019  Heating Oil  6/13/22  4.3612  4.3762  4.1949  4.2834   46406      USD\n",
              "23020  Heating Oil  6/14/22  4.2749  4.4570  4.2488  4.3940   36652      USD\n",
              "23021  Heating Oil  6/15/22  4.3816  4.6070  4.3557  4.5470   36908      USD\n",
              "23022  Heating Oil  6/16/22  4.5320  4.5825  4.4124  4.5713   28269      USD\n",
              "23023  Heating Oil  6/17/22  4.5719  4.6444  4.2936  4.3398       0      USD"
            ],
            "text/html": [
              "\n",
              "  <div id=\"df-1663747b-539c-4a96-bb05-e818160496af\">\n",
              "    <div class=\"colab-df-container\">\n",
              "      <div>\n",
              "<style scoped>\n",
              "    .dataframe tbody tr th:only-of-type {\n",
              "        vertical-align: middle;\n",
              "    }\n",
              "\n",
              "    .dataframe tbody tr th {\n",
              "        vertical-align: top;\n",
              "    }\n",
              "\n",
              "    .dataframe thead th {\n",
              "        text-align: right;\n",
              "    }\n",
              "</style>\n",
              "<table border=\"1\" class=\"dataframe\">\n",
              "  <thead>\n",
              "    <tr style=\"text-align: right;\">\n",
              "      <th></th>\n",
              "      <th>Symbol</th>\n",
              "      <th>Date</th>\n",
              "      <th>Open</th>\n",
              "      <th>High</th>\n",
              "      <th>Low</th>\n",
              "      <th>Close</th>\n",
              "      <th>Volume</th>\n",
              "      <th>Currency</th>\n",
              "    </tr>\n",
              "  </thead>\n",
              "  <tbody>\n",
              "    <tr>\n",
              "      <th>23019</th>\n",
              "      <td>Heating Oil</td>\n",
              "      <td>6/13/22</td>\n",
              "      <td>4.3612</td>\n",
              "      <td>4.3762</td>\n",
              "      <td>4.1949</td>\n",
              "      <td>4.2834</td>\n",
              "      <td>46406</td>\n",
              "      <td>USD</td>\n",
              "    </tr>\n",
              "    <tr>\n",
              "      <th>23020</th>\n",
              "      <td>Heating Oil</td>\n",
              "      <td>6/14/22</td>\n",
              "      <td>4.2749</td>\n",
              "      <td>4.4570</td>\n",
              "      <td>4.2488</td>\n",
              "      <td>4.3940</td>\n",
              "      <td>36652</td>\n",
              "      <td>USD</td>\n",
              "    </tr>\n",
              "    <tr>\n",
              "      <th>23021</th>\n",
              "      <td>Heating Oil</td>\n",
              "      <td>6/15/22</td>\n",
              "      <td>4.3816</td>\n",
              "      <td>4.6070</td>\n",
              "      <td>4.3557</td>\n",
              "      <td>4.5470</td>\n",
              "      <td>36908</td>\n",
              "      <td>USD</td>\n",
              "    </tr>\n",
              "    <tr>\n",
              "      <th>23022</th>\n",
              "      <td>Heating Oil</td>\n",
              "      <td>6/16/22</td>\n",
              "      <td>4.5320</td>\n",
              "      <td>4.5825</td>\n",
              "      <td>4.4124</td>\n",
              "      <td>4.5713</td>\n",
              "      <td>28269</td>\n",
              "      <td>USD</td>\n",
              "    </tr>\n",
              "    <tr>\n",
              "      <th>23023</th>\n",
              "      <td>Heating Oil</td>\n",
              "      <td>6/17/22</td>\n",
              "      <td>4.5719</td>\n",
              "      <td>4.6444</td>\n",
              "      <td>4.2936</td>\n",
              "      <td>4.3398</td>\n",
              "      <td>0</td>\n",
              "      <td>USD</td>\n",
              "    </tr>\n",
              "  </tbody>\n",
              "</table>\n",
              "</div>\n",
              "      <button class=\"colab-df-convert\" onclick=\"convertToInteractive('df-1663747b-539c-4a96-bb05-e818160496af')\"\n",
              "              title=\"Convert this dataframe to an interactive table.\"\n",
              "              style=\"display:none;\">\n",
              "        \n",
              "  <svg xmlns=\"http://www.w3.org/2000/svg\" height=\"24px\"viewBox=\"0 0 24 24\"\n",
              "       width=\"24px\">\n",
              "    <path d=\"M0 0h24v24H0V0z\" fill=\"none\"/>\n",
              "    <path d=\"M18.56 5.44l.94 2.06.94-2.06 2.06-.94-2.06-.94-.94-2.06-.94 2.06-2.06.94zm-11 1L8.5 8.5l.94-2.06 2.06-.94-2.06-.94L8.5 2.5l-.94 2.06-2.06.94zm10 10l.94 2.06.94-2.06 2.06-.94-2.06-.94-.94-2.06-.94 2.06-2.06.94z\"/><path d=\"M17.41 7.96l-1.37-1.37c-.4-.4-.92-.59-1.43-.59-.52 0-1.04.2-1.43.59L10.3 9.45l-7.72 7.72c-.78.78-.78 2.05 0 2.83L4 21.41c.39.39.9.59 1.41.59.51 0 1.02-.2 1.41-.59l7.78-7.78 2.81-2.81c.8-.78.8-2.07 0-2.86zM5.41 20L4 18.59l7.72-7.72 1.47 1.35L5.41 20z\"/>\n",
              "  </svg>\n",
              "      </button>\n",
              "      \n",
              "  <style>\n",
              "    .colab-df-container {\n",
              "      display:flex;\n",
              "      flex-wrap:wrap;\n",
              "      gap: 12px;\n",
              "    }\n",
              "\n",
              "    .colab-df-convert {\n",
              "      background-color: #E8F0FE;\n",
              "      border: none;\n",
              "      border-radius: 50%;\n",
              "      cursor: pointer;\n",
              "      display: none;\n",
              "      fill: #1967D2;\n",
              "      height: 32px;\n",
              "      padding: 0 0 0 0;\n",
              "      width: 32px;\n",
              "    }\n",
              "\n",
              "    .colab-df-convert:hover {\n",
              "      background-color: #E2EBFA;\n",
              "      box-shadow: 0px 1px 2px rgba(60, 64, 67, 0.3), 0px 1px 3px 1px rgba(60, 64, 67, 0.15);\n",
              "      fill: #174EA6;\n",
              "    }\n",
              "\n",
              "    [theme=dark] .colab-df-convert {\n",
              "      background-color: #3B4455;\n",
              "      fill: #D2E3FC;\n",
              "    }\n",
              "\n",
              "    [theme=dark] .colab-df-convert:hover {\n",
              "      background-color: #434B5C;\n",
              "      box-shadow: 0px 1px 3px 1px rgba(0, 0, 0, 0.15);\n",
              "      filter: drop-shadow(0px 1px 2px rgba(0, 0, 0, 0.3));\n",
              "      fill: #FFFFFF;\n",
              "    }\n",
              "  </style>\n",
              "\n",
              "      <script>\n",
              "        const buttonEl =\n",
              "          document.querySelector('#df-1663747b-539c-4a96-bb05-e818160496af button.colab-df-convert');\n",
              "        buttonEl.style.display =\n",
              "          google.colab.kernel.accessAllowed ? 'block' : 'none';\n",
              "\n",
              "        async function convertToInteractive(key) {\n",
              "          const element = document.querySelector('#df-1663747b-539c-4a96-bb05-e818160496af');\n",
              "          const dataTable =\n",
              "            await google.colab.kernel.invokeFunction('convertToInteractive',\n",
              "                                                     [key], {});\n",
              "          if (!dataTable) return;\n",
              "\n",
              "          const docLinkHtml = 'Like what you see? Visit the ' +\n",
              "            '<a target=\"_blank\" href=https://colab.research.google.com/notebooks/data_table.ipynb>data table notebook</a>'\n",
              "            + ' to learn more about interactive tables.';\n",
              "          element.innerHTML = '';\n",
              "          dataTable['output_type'] = 'display_data';\n",
              "          await google.colab.output.renderOutput(dataTable, element);\n",
              "          const docLink = document.createElement('div');\n",
              "          docLink.innerHTML = docLinkHtml;\n",
              "          element.appendChild(docLink);\n",
              "        }\n",
              "      </script>\n",
              "    </div>\n",
              "  </div>\n",
              "  "
            ]
          },
          "metadata": {},
          "execution_count": 40
        }
      ]
    },
    {
      "cell_type": "markdown",
      "source": [
        "####Selecting columns of interest"
      ],
      "metadata": {
        "id": "Mxn3yzSoUoyM"
      }
    },
    {
      "cell_type": "code",
      "source": [],
      "metadata": {
        "id": "OI_JxMBCUvMg"
      },
      "execution_count": null,
      "outputs": []
    },
    {
      "cell_type": "markdown",
      "source": [
        "####Visualizing the adjusted close price data"
      ],
      "metadata": {
        "id": "qgW7bPX8RE7v"
      }
    },
    {
      "cell_type": "code",
      "source": [
        "# Ploting adjusted close price data\n",
        "df['Close'].plot()\n",
        "plt.show()"
      ],
      "metadata": {
        "colab": {
          "base_uri": "https://localhost:8080/",
          "height": 469
        },
        "id": "zVdA8yQ2t6-J",
        "outputId": "8467c116-e596-4597-b9af-12628bb6fb31"
      },
      "execution_count": 23,
      "outputs": [
        {
          "output_type": "display_data",
          "data": {
            "text/plain": [
              "<Figure size 640x480 with 1 Axes>"
            ],
            "image/png": "[encoded data removed]"
          },
          "metadata": {}
        }
      ]
    },
    {
      "cell_type": "markdown",
      "source": [
        "####Improving the legibility of the plot by scaling it, labeling it appropriately, and adding grid lines."
      ],
      "metadata": {
        "id": "QOINaPuJSMHK"
      }
    },
    {
      "cell_type": "code",
      "source": [
        "# Plot the adjusted close price\n",
        "df['Close'].plot(figsize=(10, 7))\n",
        "\n",
        "# Define the label for the title of the figure\n",
        "plt.title(\"Adjusted Close Price of %s\", fontsize=16)\n",
        "\n",
        "# Define the labels for x-axis and y-axis\n",
        "plt.ylabel('Price', fontsize=14)\n",
        "plt.xlabel('Year', fontsize=14)\n",
        "\n",
        "# Plot the grid lines\n",
        "plt.grid(which=\"major\", color='k', linestyle='-.', linewidth=0.5)\n",
        "\n",
        "# Show the plot\n",
        "plt.show()"
      ],
      "metadata": {
        "colab": {
          "base_uri": "https://localhost:8080/",
          "height": 668
        },
        "id": "0N6ljfsdQWuc",
        "outputId": "d84ba206-54b4-4b80-fd18-064293e0399b"
      },
      "execution_count": 25,
      "outputs": [
        {
          "output_type": "display_data",
          "data": {
            "text/plain": [
              "<Figure size 1000x700 with 1 Axes>"
            ],
            "image/png": "[encoded data removed]"
          },
          "metadata": {}
        }
      ]
    },
    {
      "cell_type": "code",
      "source": [
        "df.dtypes"
      ],
      "metadata": {
        "colab": {
          "base_uri": "https://localhost:8080/"
        },
        "id": "IpanvDkVQWzZ",
        "outputId": "b4633101-407e-4402-94c4-28017593d6f3"
      },
      "execution_count": 30,
      "outputs": [
        {
          "output_type": "execute_result",
          "data": {
            "text/plain": [
              "Symbol       object\n",
              "Open        float64\n",
              "High        float64\n",
              "Low         float64\n",
              "Close       float64\n",
              "Volume        int64\n",
              "Currency     object\n",
              "dtype: object"
            ]
          },
          "metadata": {},
          "execution_count": 30
        }
      ]
    },
    {
      "cell_type": "code",
      "source": [],
      "metadata": {
        "id": "fgdC7pvJSp0k"
      },
      "execution_count": null,
      "outputs": []
    },
    {
      "cell_type": "code",
      "source": [],
      "metadata": {
        "id": "fM1_0rS2Sp4L"
      },
      "execution_count": null,
      "outputs": []
    },
    {
      "cell_type": "code",
      "source": [],
      "metadata": {
        "id": "sGV0YvQ_QW7-"
      },
      "execution_count": null,
      "outputs": []
    }
  ]
}